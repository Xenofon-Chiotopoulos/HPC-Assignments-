{
  "nbformat": 4,
  "nbformat_minor": 0,
  "metadata": {
    "colab": {
      "name": "HPC3.ipynb",
      "provenance": [],
      "collapsed_sections": [
        "5fwlG82oaaYL"
      ],
      "machine_shape": "hm",
      "authorship_tag": "ABX9TyM+rwuwfW2EBtD5gMLxKrGf",
      "include_colab_link": true
    },
    "kernelspec": {
      "name": "python3",
      "display_name": "Python 3"
    },
    "language_info": {
      "name": "python"
    },
    "accelerator": "GPU"
  },
  "cells": [
    {
      "cell_type": "markdown",
      "metadata": {
        "id": "view-in-github",
        "colab_type": "text"
      },
      "source": [
        "<a href=\"https://colab.research.google.com/github/Xenofon-Chiotopoulos/HPC-Assignments-/blob/main/HPC3.ipynb\" target=\"_parent\"><img src=\"https://colab.research.google.com/assets/colab-badge.svg\" alt=\"Open In Colab\"/></a>"
      ]
    },
    {
      "cell_type": "markdown",
      "metadata": {
        "id": "oG1va8GwksKc"
      },
      "source": [
        "##Importing modules and defining functions that have been taken from the lecture notes"
      ]
    },
    {
      "cell_type": "code",
      "metadata": {
        "id": "XpyVxGBSSNzB"
      },
      "source": [
        "import numpy as np\n",
        "from scipy.sparse import coo_matrix, csr_matrix\n",
        "import numba\n",
        "from scipy.sparse.linalg import LinearOperator\n",
        "from numba import cuda\n",
        "import timeit\n",
        "import matplotlib.pyplot as plt\n",
        "import matplotlib"
      ],
      "execution_count": null,
      "outputs": []
    },
    {
      "cell_type": "markdown",
      "metadata": {
        "id": "NRUMa_Z4k86v"
      },
      "source": [
        "The discretise poisson function will be used in the script for timing comparisons as we can iteratively increace its size"
      ]
    },
    {
      "cell_type": "code",
      "metadata": {
        "id": "Rcas1HPPqOlg"
      },
      "source": [
        "#Discretise_poisson fucntion to create sparse matrix that we will use\n",
        "def discretise_poisson(N):\n",
        "    \"\"\"Generate the matrix and rhs associated with the discrete Poisson operator.\"\"\"\n",
        "    \n",
        "    nelements = 5 * N**2 - 16 * N + 16\n",
        "    \n",
        "    row_ind = np.empty(nelements, dtype=np.float64)\n",
        "    col_ind = np.empty(nelements, dtype=np.float64)\n",
        "    data = np.empty(nelements, dtype=np.float64)\n",
        "    \n",
        "    f = np.empty(N * N, dtype=np.float64)\n",
        "    \n",
        "    count = 0\n",
        "    for j in range(N):\n",
        "        for i in range(N):\n",
        "            if i == 0 or i == N - 1 or j == 0 or j == N - 1:\n",
        "                row_ind[count] = col_ind[count] = j * N + i\n",
        "                data[count] =  1\n",
        "                f[j * N + i] = 0\n",
        "                count += 1\n",
        "                \n",
        "            else:\n",
        "                row_ind[count : count + 5] = j * N + i\n",
        "                col_ind[count] = j * N + i\n",
        "                col_ind[count + 1] = j * N + i + 1\n",
        "                col_ind[count + 2] = j * N + i - 1\n",
        "                col_ind[count + 3] = (j + 1) * N + i\n",
        "                col_ind[count + 4] = (j - 1) * N + i\n",
        "                                \n",
        "                data[count] = 4 * (N - 1)**2\n",
        "                data[count + 1 : count + 5] = - (N - 1)**2\n",
        "                f[j * N + i] = 1\n",
        "                \n",
        "                count += 5\n",
        "                                                \n",
        "    return coo_matrix((data, (row_ind, col_ind)), shape=(N**2, N**2)).tocsr(), f"
      ],
      "execution_count": null,
      "outputs": []
    },
    {
      "cell_type": "markdown",
      "metadata": {
        "id": "G40ey8M-kwZB"
      },
      "source": [
        "##Setting up LinearOperator subclass for converting A matrix given in CSR format to Ellpack-R format"
      ]
    },
    {
      "cell_type": "markdown",
      "metadata": {
        "id": "iXYM_fHpoAeh"
      },
      "source": [
        "This function takes the index matrix elements from CSR and converts it to Ellpack-R. To do this the we input rows and columns indecies, the maximum number of items per row max_rl, the csr data matrix as well as the empty matrices for the attribnutes of Ellpack-R. The empty attributes are .ellpack_data, .ellpack_indecies and .ellpack_rl. The inputes are prepared in the class __init__ function before this function is called inside the class."
      ]
    },
    {
      "cell_type": "code",
      "metadata": {
        "id": "Xi5C080rrcmA"
      },
      "source": [
        "@numba.jit(parallel=True, nopython=True)\n",
        "def ellpack_prep(col, row, ellpack_data, ellpack_indecies, csr_matrix_data, max_rl):\n",
        "  count = 1\n",
        "  for j in numba.prange(len(col)):\n",
        "    i = j-1\n",
        "    if count == max_rl:\n",
        "      count = 0\n",
        "    if row[i] == row[i-1] or row[i] == row[i+1]:\n",
        "      ellpack_data[row[i],count] = csr_matrix_data[i]\n",
        "      count += 1\n",
        "    else:\n",
        "      ellpack_data[row[i],0] = csr_matrix_data[i]\n",
        "      count = 0\n",
        "\n",
        "  for j in range(len(col)):\n",
        "    i = j-1\n",
        "    if count == max_rl:\n",
        "      count = 0\n",
        "    if row[i] == row[i-1] or row[i] == row[i+1]:\n",
        "      ellpack_indecies[row[i],count] = col[i]\n",
        "      count += 1\n",
        "    else:\n",
        "      ellpack_indecies[row[i],0] = col[i]\n",
        "      count = 0\n",
        "\n",
        "  return ellpack_data, ellpack_indecies"
      ],
      "execution_count": null,
      "outputs": []
    },
    {
      "cell_type": "markdown",
      "metadata": {
        "id": "MK01YvuVqhA-"
      },
      "source": [
        "Defining a LinearOperator subclass which overwrites the @ method to do Ellpack-R matrix multiplication. The __init__ function initially transforms to CSR format to Ellpack-R format so we can the do matrix multiplication. The matrix multiplication works by iterating over the length of the input vector and then iterated over the unique row length in the ellpack_rl vector. Then the result is the sum of vector times the data the the index equal to the dummy variable. \n",
        "\n",
        "There is also a numba accelerated version of the matvec method which does not overide the @ function but needs to be called explicitly."
      ]
    },
    {
      "cell_type": "code",
      "metadata": {
        "id": "PsfmyelhWBF_"
      },
      "source": [
        "class EllpackMatrix(LinearOperator):\n",
        "\n",
        "  def __init__(self,csr_matrix):\n",
        "\n",
        "    non_zero = csr_matrix.nonzero()\n",
        "    row = non_zero[0]   # vector of row indecies \n",
        "    col = non_zero[1]   # vector of col indecies\n",
        "    data_index = np.array([row, col])\n",
        "    uniq_row = np.unique(row, return_counts=True)\n",
        "    self.ellpack_data = np.zeros(shape=(len(uniq_row[0]),max(uniq_row[1])))   #empty ellpack_data matrix filled with zeros\n",
        "    self.ellpack_indecies = np.zeros(shape=(len(uniq_row[0]),max(uniq_row[1])))   #empty ellpack_indecies matrix filled with zeros\n",
        "    \n",
        "    csr_matrix_data = csr_matrix.data   # csr\n",
        "    self.ellpack_rl = np.zeros(N*N)\n",
        "    for i in range(1, len(csr_matrix.indptr)):\n",
        "      self.ellpack_rl[i-1] = csr_matrix.indptr[i]-csr_matrix.indptr[i-1]\n",
        "    self.ellpack_rl = self.ellpack_rl.astype('int32')\n",
        "    max_rl = max(self.ellpack_rl)\n",
        "    self.shape = (len(self.ellpack_rl),len(self.ellpack_rl))\n",
        "    self.result  = np.empty(len(self.ellpack_rl))\n",
        "    self.ellpack_data, self.ellpack_indecies = ellpack_prep(col, row, \n",
        "    self.ellpack_data, self.ellpack_indecies, csr_matrix_data, max_rl)\n",
        "    self.ellpack_indecies = self.ellpack_indecies.astype('int32')\n",
        "    self.ellpack_rl = self.ellpack_rl.astype('int32')\n",
        "\n",
        "  def _matvec(self,vec):\n",
        "    for i in range(len(vec)):\n",
        "      dummy = 0\n",
        "      for j in range(self.ellpack_rl[i]):\n",
        "        dummy += self.ellpack_data[i,j] * vec[int(self.ellpack_indecies[i,j])]\n",
        "      self.result[i] = dummy\n",
        "    return self.result\n",
        "\n",
        "  @staticmethod\n",
        "  @numba.jit(parallel=True, nopython=True)\n",
        "  def matvec_numba(ellpack_rl,ellpack_data,ellpack_indecies,result,vec):\n",
        "      for i in numba.prange(len(vec)):\n",
        "        dummy = 0\n",
        "        for j in range(ellpack_rl[i]):\n",
        "          dummy += ellpack_data[i,j] * vec[int(ellpack_indecies[i,j])]\n",
        "        result[i] = dummy\n",
        "      return result"
      ],
      "execution_count": null,
      "outputs": []
    },
    {
      "cell_type": "markdown",
      "metadata": {
        "id": "Iw4twy5buY1x"
      },
      "source": [
        "debugging test numba function to test that the result of the class function matvec_numba is equal to the function called outside the class to make sure the @staticmethod works properly"
      ]
    },
    {
      "cell_type": "code",
      "metadata": {
        "id": "N-vz1q-IzS1Q"
      },
      "source": [
        "@numba.jit(parallel=True, nopython=True)\n",
        "def matvec(ellpack_rl,ellpack_data,ellpack_indecies,result,vec):\n",
        "    for i in numba.prange(len(vec)):\n",
        "      dummy = 0\n",
        "      for j in range(ellpack_rl[i]):\n",
        "        dummy += ellpack_data[i,j] * vec[int(ellpack_indecies[i,j])]\n",
        "      result[i] = dummy\n",
        "    return result"
      ],
      "execution_count": null,
      "outputs": []
    },
    {
      "cell_type": "markdown",
      "metadata": {
        "id": "PxaGGWgluyE-"
      },
      "source": [
        "Initilizing the CSR and Ellpack-R objects using the discretise poisson function to check that both methods inside and outside the class work properly"
      ]
    },
    {
      "cell_type": "code",
      "metadata": {
        "id": "w5XHqQwdccsp"
      },
      "source": [
        "N=3\n",
        "A, _ = discretise_poisson(N)\n",
        "my_sparse_mat = EllpackMatrix(A)"
      ],
      "execution_count": null,
      "outputs": []
    },
    {
      "cell_type": "markdown",
      "metadata": {
        "id": "TjoFEVV_vAx5"
      },
      "source": [
        "Creating a random matrix and then doing one matrix multiplication for the random matrix against our initialized CSR and Ellpack_R objects"
      ]
    },
    {
      "cell_type": "code",
      "metadata": {
        "id": "w-HF_iV71rks"
      },
      "source": [
        "x = np.random.randn(my_sparse_mat.shape[1])\n",
        "z = my_sparse_mat @ x\n",
        "numba_test = matvec(my_sparse_mat.ellpack_rl,my_sparse_mat.ellpack_data,\n",
        "                    my_sparse_mat.ellpack_indecies,my_sparse_mat.result,x)\n",
        "r = my_sparse_mat.matvec_numba(my_sparse_mat.ellpack_rl,\n",
        "my_sparse_mat.ellpack_data,my_sparse_mat.ellpack_indecies,my_sparse_mat.result,x)\n",
        "scipy = A @ x"
      ],
      "execution_count": null,
      "outputs": []
    },
    {
      "cell_type": "markdown",
      "metadata": {
        "id": "0Mk022Ybv47B"
      },
      "source": [
        "Cell that uses the error function found in lecture to check the all the methods produce the correct results, as we can see the error is 0.0 for all the methods indicating that our functions are working correctly."
      ]
    },
    {
      "cell_type": "code",
      "metadata": {
        "colab": {
          "base_uri": "https://localhost:8080/"
        },
        "id": "yEB4ZyJbtEYT",
        "outputId": "0a965f61-d623-4a42-fd3a-cd019a52033b"
      },
      "source": [
        "rel_error_1 = np.linalg.norm(z - scipy, np.inf) / np.linalg.norm(scipy, np.inf)\n",
        "print(rel_error_1)\n",
        "rel_error_2 = np.linalg.norm(numba_test - scipy, np.inf) / np.linalg.norm(scipy, np.inf)\n",
        "print(rel_error_2)\n",
        "rel_error_3 = np.linalg.norm(r - scipy, np.inf) / np.linalg.norm(scipy, np.inf)\n",
        "print(rel_error_3)"
      ],
      "execution_count": null,
      "outputs": [
        {
          "output_type": "stream",
          "name": "stdout",
          "text": [
            "0.0\n",
            "0.0\n",
            "0.0\n"
          ]
        }
      ]
    },
    {
      "cell_type": "markdown",
      "metadata": {
        "id": "OVHbAd_bweK1"
      },
      "source": [
        "Some test timing results to see how quick our different functions are. We can see that the numba method accelerates the run time beating Scipy for this matrix. And the not jit complied matvec method being the slowest. The matvec method that is inside the class is always slightly slower than the one outside the class not this difference is negligable. "
      ]
    },
    {
      "cell_type": "code",
      "metadata": {
        "colab": {
          "base_uri": "https://localhost:8080/"
        },
        "id": "C54v3ZMi05nw",
        "outputId": "74e0fae8-f76c-4b3d-ccb9-6e63856e2d32"
      },
      "source": [
        "a = %timeit -o my_sparse_mat.matvec_numba(my_sparse_mat.ellpack_rl,\n",
        "my_sparse_mat.ellpack_data,my_sparse_mat.ellpack_indecies,my_sparse_mat.result,x)\n",
        "b = %timeit -o matvec(my_sparse_mat.ellpack_rl,my_sparse_mat.ellpack_data,\n",
        "                      my_sparse_mat.ellpack_indecies,my_sparse_mat.result,x)\n",
        "c = %timeit -o my_sparse_mat @ x\n",
        "d = %timeit -o A @ x"
      ],
      "execution_count": null,
      "outputs": [
        {
          "output_type": "stream",
          "name": "stdout",
          "text": [
            "The slowest run took 199.25 times longer than the fastest. This could mean that an intermediate result is being cached.\n",
            "100000 loops, best of 5: 3.81 µs per loop\n",
            "The slowest run took 4.36 times longer than the fastest. This could mean that an intermediate result is being cached.\n",
            "100000 loops, best of 5: 3.59 µs per loop\n",
            "The slowest run took 4.26 times longer than the fastest. This could mean that an intermediate result is being cached.\n",
            "10000 loops, best of 5: 21.9 µs per loop\n",
            "The slowest run took 8.75 times longer than the fastest. This could mean that an intermediate result is being cached.\n",
            "100000 loops, best of 5: 5.4 µs per loop\n"
          ]
        }
      ]
    },
    {
      "cell_type": "markdown",
      "metadata": {
        "id": "0rgUxXqdHN7b"
      },
      "source": [
        "As a convention the matvec defined outside the class will be used as the one inside the class can cause some runtime errors due to jit compling inside a class, which is not recomended."
      ]
    },
    {
      "cell_type": "markdown",
      "metadata": {
        "id": "omG23D5NHXVA"
      },
      "source": [
        "## GPU matvec implementation"
      ]
    },
    {
      "cell_type": "markdown",
      "metadata": {
        "id": "4g-6zHwkKNO8"
      },
      "source": [
        "In the following block we define our kernal that will be used inside the gpu to preform matvec multiplication.  "
      ]
    },
    {
      "cell_type": "code",
      "metadata": {
        "id": "O3gYTq5EHnAn"
      },
      "source": [
        "threadsperblock = 512\n",
        "blockspergrid = (len(x) + (threadsperblock - 1)) // threadsperblock\n",
        "output = np.zeros(my_sparse_mat.ellpack_rl.shape[0], dtype=np.float32)\n",
        "@cuda.jit()\n",
        "def gpu_matvec(my_sparse_mat_d, my_sparse_mat_i, my_sparse_mat_rl, vec, output):\n",
        "  i = cuda.grid(1)\n",
        "  if i < vec.shape[0]:\n",
        "    tmp = 0.\n",
        "    for j in range(my_sparse_mat_rl[i]):\n",
        "        tmp += my_sparse_mat_d[i, j] * vec[int(my_sparse_mat_i[i, j])]\n",
        "    output[i] = tmp"
      ],
      "execution_count": null,
      "outputs": []
    },
    {
      "cell_type": "markdown",
      "metadata": {
        "id": "46yY2QC5Kk-z"
      },
      "source": [
        "This function first defines all the arrays needed to run gpu_matvec and then sends them to the gpu device. Once the kernal has run it times it and then returns the output array and the time taken to run the entire function."
      ]
    },
    {
      "cell_type": "code",
      "metadata": {
        "id": "L4-vt1taKh8R"
      },
      "source": [
        "def run_kernal(my_sparse_mat, x):\n",
        "  my_sparse_mat.ellpack_data = my_sparse_mat.ellpack_data.astype('float64')\n",
        "  my_sparse_mat.ellpack_indecies = my_sparse_mat.ellpack_indecies.astype('float64')\n",
        "  my_sparse_mat.ellpack_rl = my_sparse_mat.ellpack_rl.astype('int32')\n",
        "  x = x.astype('float64')\n",
        "  local_d = cuda.to_device(my_sparse_mat.ellpack_data)\n",
        "  local_i = cuda.to_device(my_sparse_mat.ellpack_indecies)\n",
        "  local_rl = cuda.to_device(my_sparse_mat.ellpack_rl)\n",
        "  local_vec = cuda.to_device(x)\n",
        "  output = np.empty_like(local_vec)\n",
        "  local_output = cuda.to_device(output)\n",
        "\n",
        "\n",
        "  gpu_matvec[(blockspergrid,1),(threadsperblock,1)](local_d, local_i, \n",
        "                                              local_rl, local_vec, local_output)\n",
        "  a = %timeit -o gpu_matvec[(blockspergrid,1),(threadsperblock,1)](local_d, \n",
        "                                     local_i, local_rl, local_vec, local_output)\n",
        "\n",
        "  arr = np.empty(shape=output.shape, dtype = output.dtype)\n",
        "  local_output.copy_to_host(arr)\n",
        "  local_output = arr\n",
        "  return local_output, a"
      ],
      "execution_count": null,
      "outputs": []
    },
    {
      "cell_type": "markdown",
      "metadata": {
        "id": "-pZaupMELGM3"
      },
      "source": [
        "Here we have a test initialisation for the poisson fucntion to see if the implementation works."
      ]
    },
    {
      "cell_type": "code",
      "metadata": {
        "id": "wB7I6hQvAtsE"
      },
      "source": [
        "N=1000\n",
        "A, _ = discretise_poisson(N)\n",
        "my_sparse_mat= EllpackMatrix(A)\n",
        "x = np.random.randn(my_sparse_mat.shape[0])\n",
        "scipy = A @ x"
      ],
      "execution_count": null,
      "outputs": []
    },
    {
      "cell_type": "markdown",
      "metadata": {
        "id": "TYxq_OkXLPhN"
      },
      "source": [
        "Here we initialise all the arrays that need to be sent to the gpu, as the run_kernal def will not work without the initialsed arrays."
      ]
    },
    {
      "cell_type": "code",
      "metadata": {
        "colab": {
          "base_uri": "https://localhost:8080/"
        },
        "id": "SogFPuzDOHM8",
        "outputId": "9d03f50b-6841-431a-9ffb-6cf469eba7ad"
      },
      "source": [
        "my_sparse_mat.ellpack_data = my_sparse_mat.ellpack_data.astype('float64')\n",
        "my_sparse_mat.ellpack_indecies = my_sparse_mat.ellpack_indecies.astype('float64')\n",
        "my_sparse_mat.ellpack_rl = my_sparse_mat.ellpack_rl.astype('float64')\n",
        "x = x.astype('float64')\n",
        "local_d = cuda.to_device(my_sparse_mat.ellpack_data)\n",
        "local_i = cuda.to_device(my_sparse_mat.ellpack_indecies)\n",
        "local_rl = cuda.to_device(my_sparse_mat.ellpack_rl)\n",
        "local_vec = cuda.to_device(x)\n",
        "output = np.empty_like(local_vec)\n",
        "local_output = cuda.to_device(output)\n",
        "\n",
        "\n",
        "gpu_matvec[(blockspergrid,1),(threadsperblock,1)](local_d, local_i, local_rl,\n",
        "                                                  local_vec, local_output)\n",
        "run_time = %timeit gpu_matvec[(blockspergrid,1),(threadsperblock,1)](local_d, \n",
        "                                      local_i, local_rl, local_vec, local_output)\n",
        "\n",
        "arr = np.empty(shape=output.shape, dtype = output.dtype)\n",
        "local_output.copy_to_host(arr)\n",
        "local_output = arr"
      ],
      "execution_count": null,
      "outputs": [
        {
          "output_type": "stream",
          "name": "stdout",
          "text": [
            "1000 loops, best of 5: 248 µs per loop\n"
          ]
        }
      ]
    },
    {
      "cell_type": "markdown",
      "metadata": {
        "id": "KhHva5GUMRpz"
      },
      "source": [
        "From the results below we can see that the implementation works for a poisson function of $N = 1000$ with machine precision error. A key thing to not is that the time taken is $4.51 ms$ for the function below and only $245 \\mu s$. This is becuase the timeit object above only times the kernal time and the one below times the arrays being sent to the gpu and being sent back to the host machine. "
      ]
    },
    {
      "cell_type": "code",
      "metadata": {
        "id": "gpEwbrIQ7cxF",
        "colab": {
          "base_uri": "https://localhost:8080/"
        },
        "outputId": "645a18ba-2751-4163-f043-3407759c4fce"
      },
      "source": [
        "local_output, run_time = run_kernal(my_sparse_mat,x)\n",
        "scipy = A @ x\n",
        "rel_error_gpu = np.linalg.norm(local_output - scipy, np.inf) / np.linalg.norm(scipy, np.inf)\n",
        "print(rel_error_gpu)"
      ],
      "execution_count": null,
      "outputs": [
        {
          "output_type": "stream",
          "name": "stdout",
          "text": [
            "The slowest run took 37.96 times longer than the fastest. This could mean that an intermediate result is being cached.\n",
            "100 loops, best of 5: 4.51 ms per loop\n",
            "3.1860852462488297e-16\n"
          ]
        }
      ]
    },
    {
      "cell_type": "markdown",
      "metadata": {
        "id": "dQLNYeaOEOUP"
      },
      "source": [
        "##Testing random matrices"
      ]
    },
    {
      "cell_type": "markdown",
      "metadata": {
        "id": "DjEARWbBGjL9"
      },
      "source": [
        "Here we redefine the Class as the one above is specialised for the poisson fucntion and not for any general random matrix. This class can handle any matrix."
      ]
    },
    {
      "cell_type": "code",
      "metadata": {
        "id": "_x56363pM3ez"
      },
      "source": [
        "class EllpackMatrix_test(LinearOperator):\n",
        "\n",
        "  def __init__(self,csr_matrix):\n",
        "\n",
        "    non_zero = csr_matrix.nonzero()\n",
        "    row = non_zero[0]\n",
        "    col = non_zero[1]\n",
        "    data_index = np.array([row, col])\n",
        "    uniq_row = np.unique(row, return_counts=True)\n",
        "    self.ellpack_data = np.zeros(shape=(len(uniq_row[0]),max(row)))\n",
        "    self.ellpack_indecies = np.zeros(shape=(len(uniq_row[0]),max(row)))\n",
        "    csr_matrix_data = csr_matrix.data\n",
        "    self.ellpack_rl = np.zeros(N)\n",
        "    for i in range(1, len(csr_matrix.indptr)):\n",
        "      self.ellpack_rl[i-1] = csr_matrix.indptr[i]-csr_matrix.indptr[i-1]\n",
        "    self.ellpack_rl = self.ellpack_rl.astype('int32')\n",
        "    max_rl = max(self.ellpack_rl)\n",
        "    self.shape = (len(self.ellpack_rl),len(self.ellpack_rl))\n",
        "    self.result  = np.empty(len(self.ellpack_rl))\n",
        "  \n",
        "    self.ellpack_indecies = self.ellpack_indecies.astype('int32')\n",
        "    self.ellpack_rl = self.ellpack_rl.astype('int32')\n",
        "    \n",
        "\n",
        "    count = 0\n",
        "    for j in range(max(row)-1):\n",
        "      for i in range(self.ellpack_rl[j]):\n",
        "        self.ellpack_indecies[j,i] = col[count]\n",
        "        self.ellpack_data[j,i] = csr_matrix.data[count]\n",
        "        count += 1\n",
        "\n",
        "\n",
        "    self.ellpack_indecies = self.ellpack_indecies.astype('int32')\n",
        "    self.ellpack_rl = self.ellpack_rl.astype('int32') \n",
        "    \n",
        "\n",
        "  def _matvec(self,vec):\n",
        "    for i in range(len(vec)):\n",
        "      dummy = 0\n",
        "      for j in range(self.ellpack_rl[i]):\n",
        "        dummy += self.ellpack_data[i,j] * vec[int(self.ellpack_indecies[i,j])]\n",
        "      self.result[i] = dummy\n",
        "    return self.result\n",
        "\n",
        "  @staticmethod\n",
        "  @numba.jit(parallel=True, nopython=True)\n",
        "  def matvec_numba(ellpack_rl,ellpack_data,ellpack_indecies,result,vec):\n",
        "      for i in numba.prange(len(vec)):\n",
        "        dummy = 0\n",
        "        for j in range(ellpack_rl[i]):\n",
        "          dummy += ellpack_data[i,j] * vec[int(ellpack_indecies[i,j])]\n",
        "        result[i] = dummy\n",
        "      return result"
      ],
      "execution_count": null,
      "outputs": []
    },
    {
      "cell_type": "markdown",
      "metadata": {
        "id": "IkwrkBn5HeyU"
      },
      "source": [
        "Here we create a random sparse matrix of size $1000\\times1000$"
      ]
    },
    {
      "cell_type": "code",
      "metadata": {
        "id": "219fcU5gapBY"
      },
      "source": [
        "from scipy.sparse import random\n",
        "sparse = random(1000, 1000, density=0.01, format='csr')"
      ],
      "execution_count": null,
      "outputs": []
    },
    {
      "cell_type": "markdown",
      "metadata": {
        "id": "A3NhL6CpIP1h"
      },
      "source": [
        "Creating our Ellpack_R object, and defining the size of the matrix."
      ]
    },
    {
      "cell_type": "code",
      "metadata": {
        "id": "n9iZdjItEUEL"
      },
      "source": [
        "N = 1000\n",
        "my_sparse_mat_test = EllpackMatrix_test(sparse)"
      ],
      "execution_count": null,
      "outputs": []
    },
    {
      "cell_type": "markdown",
      "metadata": {
        "id": "ngQPATEjId_I"
      },
      "source": [
        "Creating our 3 random vectors that will be used to test the error that our fucntions produce relative to CSR matrix multiplication from scipy.sparse.linalg.LinearOperator."
      ]
    },
    {
      "cell_type": "code",
      "metadata": {
        "id": "xR7UmCF6ET16"
      },
      "source": [
        "x_1 = np.random.randn(my_sparse_mat_test.shape[1])\n",
        "x_2 = np.random.randn(my_sparse_mat_test.shape[1])\n",
        "x_3 = np.random.randn(my_sparse_mat_test.shape[1])"
      ],
      "execution_count": null,
      "outputs": []
    },
    {
      "cell_type": "markdown",
      "metadata": {
        "id": "ts92G6NvI4se"
      },
      "source": [
        "Testing random vector 1 for scipy against numba produces 0 error."
      ]
    },
    {
      "cell_type": "code",
      "metadata": {
        "colab": {
          "base_uri": "https://localhost:8080/"
        },
        "id": "aXEB_qKXw7he",
        "outputId": "2adb09ee-2425-4303-e21e-a27b949a13ef"
      },
      "source": [
        "scipy_1 = sparse @ x_1\n",
        "Ellpack_1 = my_sparse_mat_test.matvec(x_1)\n",
        "rel_error_1 = np.linalg.norm(Ellpack_1 - scipy_1, np.inf) / np.linalg.norm(scipy_1, np.inf)\n",
        "print(rel_error_1)"
      ],
      "execution_count": null,
      "outputs": [
        {
          "output_type": "stream",
          "name": "stdout",
          "text": [
            "0.0\n"
          ]
        }
      ]
    },
    {
      "cell_type": "markdown",
      "metadata": {
        "id": "n8SXbt2fJIrD"
      },
      "source": [
        "Testing random vector 2 for scipy against numba produces 0 error."
      ]
    },
    {
      "cell_type": "code",
      "metadata": {
        "colab": {
          "base_uri": "https://localhost:8080/"
        },
        "id": "mht__bn1xIfI",
        "outputId": "afda498f-9e9a-4202-bee2-44158a8abbe4"
      },
      "source": [
        "scipy_2 = sparse @ x_2\n",
        "Ellpack_2 = my_sparse_mat_test.matvec(x_2)\n",
        "rel_error_2 = np.linalg.norm(Ellpack_2 - scipy_2, np.inf) / np.linalg.norm(scipy_2, np.inf)\n",
        "print(rel_error_2)"
      ],
      "execution_count": null,
      "outputs": [
        {
          "output_type": "stream",
          "name": "stdout",
          "text": [
            "0.0\n"
          ]
        }
      ]
    },
    {
      "cell_type": "markdown",
      "metadata": {
        "id": "eSrqX5IyJKac"
      },
      "source": [
        "Testing random vector 3 for scipy against numba produces 0 error."
      ]
    },
    {
      "cell_type": "code",
      "metadata": {
        "colab": {
          "base_uri": "https://localhost:8080/"
        },
        "id": "kDWtYVz6HebC",
        "outputId": "f97057d0-0d60-4b0f-99ad-d563fbcc4178"
      },
      "source": [
        "scipy_3 = sparse @ x_3\n",
        "Ellpack_3 = my_sparse_mat_test.matvec(x_3)\n",
        "rel_error_3 = np.linalg.norm(Ellpack_3 - scipy_3, np.inf) / np.linalg.norm(scipy_3, np.inf)\n",
        "print(rel_error_3)"
      ],
      "execution_count": null,
      "outputs": [
        {
          "output_type": "stream",
          "name": "stdout",
          "text": [
            "0.0\n"
          ]
        }
      ]
    },
    {
      "cell_type": "markdown",
      "metadata": {
        "id": "h0HB_aO4JP7B"
      },
      "source": [
        "Testing random vector 1 for scipy against Cpu implementation produces 0 error."
      ]
    },
    {
      "cell_type": "code",
      "metadata": {
        "id": "HxhfKDGB4iun"
      },
      "source": [
        "#placeholder\n",
        "|\n",
        "|\n",
        "|\n",
        "#placeholder"
      ],
      "execution_count": null,
      "outputs": []
    },
    {
      "cell_type": "code",
      "metadata": {
        "colab": {
          "base_uri": "https://localhost:8080/"
        },
        "id": "nNfDzgiMyA4c",
        "outputId": "a39ffb8f-bcc3-4cd3-cbac-4177f64e6334"
      },
      "source": [
        "scipy_1 = sparse @ x_1\n",
        "Ellpack_1 = matvec(my_sparse_mat_test.ellpack_rl,my_sparse_mat_test.ellpack_data,\n",
        "            my_sparse_mat_test.ellpack_indecies, my_sparse_mat_test.result, x_1)\n",
        "rel_error_1 = np.linalg.norm(Ellpack_1 - scipy_1, np.inf) / np.linalg.norm(scipy_1, np.inf)\n",
        "print(rel_error_1)"
      ],
      "execution_count": null,
      "outputs": [
        {
          "output_type": "stream",
          "name": "stdout",
          "text": [
            "0.0\n"
          ]
        }
      ]
    },
    {
      "cell_type": "markdown",
      "metadata": {
        "id": "XLhExm-1Jacs"
      },
      "source": [
        "Testing random vector 2 for scipy against Cpu implementation produces 0 error."
      ]
    },
    {
      "cell_type": "code",
      "metadata": {
        "colab": {
          "base_uri": "https://localhost:8080/"
        },
        "id": "Ia8Nd4RfyAxB",
        "outputId": "60e88b37-31f0-4f95-f915-e59adfaab67f"
      },
      "source": [
        "scipy_2 = sparse @ x_2\n",
        "Ellpack_2 = matvec(my_sparse_mat_test.ellpack_rl,my_sparse_mat_test.ellpack_data,\n",
        "            my_sparse_mat_test.ellpack_indecies, my_sparse_mat_test.result, x_2)\n",
        "rel_error_2 = np.linalg.norm(Ellpack_2 - scipy_2, np.inf) / np.linalg.norm(scipy_2, np.inf)\n",
        "print(rel_error_2)"
      ],
      "execution_count": null,
      "outputs": [
        {
          "output_type": "stream",
          "name": "stdout",
          "text": [
            "0.0\n"
          ]
        }
      ]
    },
    {
      "cell_type": "markdown",
      "metadata": {
        "id": "nr9UqhgiJciB"
      },
      "source": [
        "Testing random vector 3 for scipy against Cpu implementation produces 0 error."
      ]
    },
    {
      "cell_type": "code",
      "metadata": {
        "colab": {
          "base_uri": "https://localhost:8080/"
        },
        "id": "cYMJfvvoxhs9",
        "outputId": "ae63b5ba-fa0b-488a-bccb-5cb00d387a75"
      },
      "source": [
        "scipy_3 = sparse @ x_3\n",
        "Ellpack_3 = matvec(my_sparse_mat_test.ellpack_rl,my_sparse_mat_test.ellpack_data,\n",
        "            my_sparse_mat_test.ellpack_indecies, my_sparse_mat_test.result, x_3)\n",
        "rel_error_3 = np.linalg.norm(Ellpack_3 - scipy_3, np.inf) / np.linalg.norm(scipy_3, np.inf)\n",
        "print(rel_error_3)"
      ],
      "execution_count": null,
      "outputs": [
        {
          "output_type": "stream",
          "name": "stdout",
          "text": [
            "0.0\n"
          ]
        }
      ]
    },
    {
      "cell_type": "markdown",
      "metadata": {
        "id": "76Gic6wkJeNJ"
      },
      "source": [
        "Testing random vector 1 for scipy against Gpu implementation produces error at machine precision."
      ]
    },
    {
      "cell_type": "code",
      "metadata": {
        "colab": {
          "base_uri": "https://localhost:8080/"
        },
        "id": "lOuSBek6ChIj",
        "outputId": "1ff15bf6-c5c6-48a4-f841-eb3d6a4aa8da"
      },
      "source": [
        "scipy_1 = sparse @ x_1\n",
        "gpu_Ellpack_1, run_time = run_kernal(my_sparse_mat_test,x_1)\n",
        "rel_error_1 = np.linalg.norm(gpu_Ellpack_1 - scipy_1, np.inf) / np.linalg.norm(scipy_1, np.inf)\n",
        "print(rel_error_1)"
      ],
      "execution_count": null,
      "outputs": [
        {
          "output_type": "stream",
          "name": "stdout",
          "text": [
            "The slowest run took 25.93 times longer than the fastest. This could mean that an intermediate result is being cached.\n",
            "100 loops, best of 5: 4.55 ms per loop\n",
            "5.48111488333316e-16\n"
          ]
        }
      ]
    },
    {
      "cell_type": "markdown",
      "metadata": {
        "id": "KvMJWRf2JqxU"
      },
      "source": [
        "Testing random vector 2 for scipy against Gpu implementation produces error at machine precision."
      ]
    },
    {
      "cell_type": "code",
      "metadata": {
        "colab": {
          "base_uri": "https://localhost:8080/"
        },
        "id": "Gh1BL_moKX2i",
        "outputId": "d218d97b-a79e-4524-e732-eac7b5b5c63e"
      },
      "source": [
        "scipy_2 = sparse @ x_2\n",
        "gpu_Ellpack_2, run_time = run_kernal(my_sparse_mat_test,x_2)\n",
        "rel_error_2 = np.linalg.norm(gpu_Ellpack_2 - scipy_2, np.inf) / np.linalg.norm(scipy_2, np.inf)\n",
        "print(rel_error_2)"
      ],
      "execution_count": null,
      "outputs": [
        {
          "output_type": "stream",
          "name": "stdout",
          "text": [
            "100 loops, best of 5: 4.57 ms per loop\n",
            "5.054931455190615e-16\n"
          ]
        }
      ]
    },
    {
      "cell_type": "markdown",
      "metadata": {
        "id": "wA1jQWd4Jt4l"
      },
      "source": [
        "Testing random vector 3 for scipy against Gpu implementation produces error at machine precision."
      ]
    },
    {
      "cell_type": "code",
      "metadata": {
        "colab": {
          "base_uri": "https://localhost:8080/"
        },
        "id": "5SqYWKqAKYVf",
        "outputId": "123b069a-1825-4b0c-e46b-dcbdca49d6e4"
      },
      "source": [
        "scipy_3 = sparse @ x_3\n",
        "gpu_Ellpack_3, run_time = run_kernal(my_sparse_mat_test,x_3)\n",
        "rel_error_3 = np.linalg.norm(gpu_Ellpack_3 - scipy_3, np.inf) / np.linalg.norm(scipy_3, np.inf)\n",
        "print(rel_error_3)"
      ],
      "execution_count": null,
      "outputs": [
        {
          "output_type": "stream",
          "name": "stdout",
          "text": [
            "100 loops, best of 5: 4.65 ms per loop\n",
            "4.605680093057884e-16\n"
          ]
        }
      ]
    },
    {
      "cell_type": "markdown",
      "metadata": {
        "id": "9C8Mx1d0J9MH"
      },
      "source": [
        "From the above testing we can see that all our methods work properly with the error either being 0 or in the order of machine precision."
      ]
    },
    {
      "cell_type": "markdown",
      "metadata": {
        "id": "Cf_nUkkfivBY"
      },
      "source": [
        "## Creating timing and error graphs"
      ]
    },
    {
      "cell_type": "markdown",
      "metadata": {
        "id": "NDgeUIJ_N6ve"
      },
      "source": [
        "The following cell cointatins a for loop for changing N where the size of the matrix is $(N\\times N,N\\times N)$. We chose to iterate upto $N = 2000$ as when we have very large matrices we see some peculiar behaviour in the GPU. We store the time taken for the matrix vector multiplication for the CPU method, CPU numba method, GPU method and the Scipy CSR matvec method."
      ]
    },
    {
      "cell_type": "code",
      "metadata": {
        "id": "KvtxFeo1FAxe"
      },
      "source": [
        "plot_list_scipy = []\n",
        "plot_list_cpu = []\n",
        "plot_list_gpu = []\n",
        "plot_list_gpu_f = []\n",
        "plot_list = []\n",
        "for N in range(100,2100,100):\n",
        "  my_sparse_mat.ellpack_data = my_sparse_mat.ellpack_data.astype('float64')\n",
        "  my_sparse_mat.ellpack_indecies = my_sparse_mat.ellpack_indecies.astype('float64')\n",
        "  my_sparse_mat.ellpack_rl = my_sparse_mat.ellpack_rl.astype('float64')\n",
        "  x = x.astype('float64')\n",
        "  local_d = cuda.to_device(my_sparse_mat.ellpack_data)\n",
        "  local_i = cuda.to_device(my_sparse_mat.ellpack_indecies)\n",
        "  local_rl = cuda.to_device(my_sparse_mat.ellpack_rl)\n",
        "  local_vec = cuda.to_device(x)\n",
        "  output = np.empty_like(local_vec)\n",
        "  local_output = cuda.to_device(output)\n",
        "\n",
        "\n",
        "\n",
        "  A, _ = discretise_poisson(N)\n",
        "  my_sparse_mat = EllpackMatrix(A)\n",
        "  x = np.random.randn(my_sparse_mat.shape[1])\n",
        "  #Each matvec method\n",
        "\n",
        "  gpu_matvec[(blockspergrid,1),(threadsperblock,1)](local_d, local_i, local_rl,\n",
        "                                                    local_vec, local_output)\n",
        "  run_time = %timeit -o gpu_matvec[(blockspergrid,1),(threadsperblock,1)](local_d, \n",
        "                                    local_i, local_rl, local_vec, local_output)\n",
        "  numba = my_sparse_mat.matvec_numba(my_sparse_mat.ellpack_rl,my_sparse_mat.ellpack_data,\n",
        "                                    my_sparse_mat.ellpack_indecies,my_sparse_mat.result,x)\n",
        "  scipy = A @ x\n",
        "  #std = %timeit -o my_sparse_mat @ x\n",
        "  c = %timeit -o A @ x\n",
        "  a = %timeit -o my_sparse_mat.matvec_numba(my_sparse_mat.ellpack_rl,\n",
        "  my_sparse_mat.ellpack_data,my_sparse_mat.ellpack_indecies,my_sparse_mat.result,x)\n",
        "  \n",
        "\n",
        "  #plot_list.append(std.best)\n",
        "  plot_list_gpu.append(run_time.best)\n",
        "  plot_list_cpu.append(a.best)\n",
        "  plot_list_scipy.append(c.best)\n"
      ],
      "execution_count": null,
      "outputs": []
    },
    {
      "cell_type": "markdown",
      "metadata": {
        "id": "GKqVst17PCi5"
      },
      "source": [
        "This loop is the same as the one above but for the error between the GPU and Scipy CSR matvec for different N. The other methods were not tracked as I found the error is always 0.0 ."
      ]
    },
    {
      "cell_type": "code",
      "metadata": {
        "id": "zD2cOHDN02wc"
      },
      "source": [
        "for N in range(10,1100,100):\n",
        "  A, _ = discretise_poisson(N)\n",
        "  my_sparse_mat = EllpackMatrix(A)\n",
        "  x = np.random.randn(my_sparse_mat.shape[1])\n",
        "  i = int((N-10)/100)\n",
        "\n",
        "  local_output1, run_time1 = run_kernal(my_sparse_mat,x)\n",
        "  local_output, run_time = run_kernal(my_sparse_mat,x)\n",
        "  scipy = A @ x\n",
        "  rel_error_gpu = np.linalg.norm(local_output - scipy, np.inf) / np.linalg.norm(scipy, \n",
        "                                                                                np.inf)\n",
        "  error_list[i] = rel_error_gpu"
      ],
      "execution_count": null,
      "outputs": []
    },
    {
      "cell_type": "markdown",
      "metadata": {
        "id": "-nK-OhQcPqVg"
      },
      "source": [
        "This cell converts the times list and error list to numpy arrays."
      ]
    },
    {
      "cell_type": "code",
      "metadata": {
        "id": "1_79p4ijJHFm"
      },
      "source": [
        "plot_list_scipy = np.array(plot_list_scipy)\n",
        "plot_list = np.array(plot_list)\n",
        "plot_list_cpu = np.array(plot_list_cpu)\n",
        "plot_list_gpu = np.array(plot_list_gpu)\n",
        "plot_list_gpu_f = np.array(plot_list_gpu_f)\n",
        "list = np.array(list)\n",
        "error_list_gpu = np.zeros_like(plot_list_gpu)\n",
        "x_axis = np.arange(100,2100,100)\n",
        "for i in range(len(x_axis)):\n",
        "  x_axis[i] = x_axis[i]*x_axis[i]"
      ],
      "execution_count": null,
      "outputs": []
    },
    {
      "cell_type": "markdown",
      "metadata": {
        "id": "3k9aLbTJP4HH"
      },
      "source": [
        "This graph shows the amount of time taken to complete one matvec multiplication for different size matrices. The naive CPU Ellpack_R implementation is so much slower than the rest the we disgard it to see the behaviour of the other methods."
      ]
    },
    {
      "cell_type": "code",
      "metadata": {
        "colab": {
          "base_uri": "https://localhost:8080/",
          "height": 282
        },
        "id": "3iM2OVy8fYQN",
        "outputId": "81634e58-18c4-492e-eeab-ab6cb7bee764"
      },
      "source": [
        "plt.plot(x_axis, plot_list_gpu, label = 'GPU', color='b')\n",
        "plt.plot(x_axis, plot_list, label = 'CPU')\n",
        "plt.plot(x_axis, plot_list_cpu, label = 'CPU Numba', color='r')\n",
        "plt.plot(x_axis, plot_list_scipy, label = 'Scipy')\n",
        "plt.xlabel('Matrix size')\n",
        "plt.ylabel('Time taken (S)')\n",
        "plt.legend()\n",
        "plt.show()"
      ],
      "execution_count": null,
      "outputs": [
        {
          "output_type": "display_data",
          "data": {
            "image/png": "[encoded data removed]",
            "text/plain": [
              "<Figure size 432x288 with 1 Axes>"
            ]
          },
          "metadata": {
            "needs_background": "light"
          }
        }
      ]
    },
    {
      "cell_type": "markdown",
      "metadata": {
        "id": "c5vbruMGQOPe"
      },
      "source": [
        "This graph shows numba vs GPU vs Scipy. From this graph we can see that Scipy is the slowest of all the methods for large N, with the CPU implentation coming next and the GPU being the fastest. This makes sense as the GPU parallisation allows for all the calculations to be done at once. The time taken stays relatively similar all the way through for the GPU as increacing the size of the matrix simply makes the GPU use more threads and so the time taken should not deviate very much. The gpu here seems to be far better than any other method however the timing does not take into account the fact that the arrays need to be send to the gpu and then sent back to the host, this process takes some time and acts as a bottleneck on how fast the gpu computation can be performed."
      ]
    },
    {
      "cell_type": "code",
      "metadata": {
        "colab": {
          "base_uri": "https://localhost:8080/",
          "height": 278
        },
        "id": "9yCS4x649iss",
        "outputId": "20ce1117-c8e2-4a92-c6dc-24c6df26d59c"
      },
      "source": [
        "plt.plot(x_axis, plot_list_gpu, label = 'GPU', color='b')\n",
        "plt.plot(x_axis, plot_list_cpu, label = 'CPU', color='r')\n",
        "plt.plot(x_axis, plot_list_scipy, label = 'Scipy')\n",
        "plt.xlabel('Matrix size')\n",
        "plt.ylabel('Time taken (S)')\n",
        "plt.legend()\n",
        "plt.show()"
      ],
      "execution_count": null,
      "outputs": [
        {
          "output_type": "display_data",
          "data": {
            "image/png": "[encoded data removed]",
            "text/plain": [
              "<Figure size 432x288 with 1 Axes>"
            ]
          },
          "metadata": {
            "needs_background": "light"
          }
        }
      ]
    },
    {
      "cell_type": "markdown",
      "metadata": {
        "id": "AN9jgNXBj7DJ"
      },
      "source": [
        "The following graph shows the change in time taken for the gpu function with increasing N. We can see that the change in time taken seems to be random. However the change is almost constant as increace in N simply means the gpu uses more threads to do calculations however they still all happen at the same time."
      ]
    },
    {
      "cell_type": "code",
      "metadata": {
        "id": "L5I7Canv519K"
      },
      "source": [
        "#placment \n",
        "|\n",
        "|\n",
        "|\n",
        "|\n",
        "|\n",
        "|\n",
        "|\n",
        "|\n",
        "|\n",
        "#placment"
      ],
      "execution_count": null,
      "outputs": []
    },
    {
      "cell_type": "code",
      "metadata": {
        "colab": {
          "base_uri": "https://localhost:8080/",
          "height": 281
        },
        "id": "vrEfKgK8D_Dw",
        "outputId": "a45c8ffa-94f1-41e1-95cb-d28e6bb2ee53"
      },
      "source": [
        "plt.plot(x_axis, plot_list_gpu, label = 'GPU', color='b')\n",
        "plt.xlabel('Matrix size')\n",
        "plt.ylabel('Time taken (S)')\n",
        "plt.legend()\n",
        "plt.show()"
      ],
      "execution_count": null,
      "outputs": [
        {
          "output_type": "display_data",
          "data": {
            "image/png": "[encoded data removed]",
            "text/plain": [
              "<Figure size 432x288 with 1 Axes>"
            ]
          },
          "metadata": {
            "needs_background": "light"
          }
        }
      ]
    },
    {
      "cell_type": "markdown",
      "metadata": {
        "id": "hlNqlHEpkdVn"
      },
      "source": [
        "One very interesting result to look at is the time taken for all three methods for small matrices. As in this case we can see that the gpu does not perform as well as the other methods. This is because the gpu has a certain overhead that is greater than that of Scipy and the numba cpu functions."
      ]
    },
    {
      "cell_type": "code",
      "metadata": {
        "colab": {
          "base_uri": "https://localhost:8080/",
          "height": 282
        },
        "id": "sncI2hrfleMI",
        "outputId": "dae462c3-e334-4bf6-f65d-17ff02866ca0"
      },
      "source": [
        "plt.plot(x_axis, plot_list_gpu, label = 'GPU', color='b')\n",
        "plt.plot(x_axis, plot_list, label = 'CPU')\n",
        "plt.plot(x_axis, plot_list_cpu, label = 'CPU Numba', color='r')\n",
        "plt.plot(x_axis, plot_list_scipy, label = 'Scipy')\n",
        "plt.xlabel('Matrix size')\n",
        "plt.ylabel('Time taken (S)')\n",
        "plt.ylim([0,0.0004])\n",
        "plt.xlim([30,100])\n",
        "plt.legend()\n",
        "plt.show()"
      ],
      "execution_count": null,
      "outputs": [
        {
          "output_type": "display_data",
          "data": {
            "image/png": "[encoded data removed]",
            "text/plain": [
              "<Figure size 432x288 with 1 Axes>"
            ]
          },
          "metadata": {
            "needs_background": "light"
          }
        }
      ]
    },
    {
      "cell_type": "markdown",
      "metadata": {
        "id": "-emHAQs3nlCW"
      },
      "source": [
        "The error is of machine precision all the way through the iterations for the gpu"
      ]
    },
    {
      "cell_type": "code",
      "metadata": {
        "colab": {
          "base_uri": "https://localhost:8080/"
        },
        "id": "XJB-h-7IzKJV",
        "outputId": "2cc91e8a-812a-4add-ef97-fe239b1c5f9e"
      },
      "source": [
        "plt.plot(x_axis, list, label = 'GPU', color='b')\n",
        "plt.legend()\n",
        "plt.show()"
      ],
      "execution_count": null,
      "outputs": [
        {
          "output_type": "display_data",
          "data": {
            "image/png": "[encoded data removed]",
            "text/plain": [
              "<Figure size 432x288 with 1 Axes>"
            ]
          },
          "metadata": {
            "needs_background": "light"
          }
        }
      ]
    },
    {
      "cell_type": "markdown",
      "metadata": {
        "id": "M4KPLz7J-0P8"
      },
      "source": [
        "##reading matrix in"
      ]
    },
    {
      "cell_type": "code",
      "metadata": {
        "id": "aXQ-o7W8-3G8"
      },
      "source": [
        "from scipy.io import mmread"
      ],
      "execution_count": null,
      "outputs": []
    },
    {
      "cell_type": "markdown",
      "metadata": {
        "id": "NABrZkuMnvGQ"
      },
      "source": [
        "Reading in the matrix from matrix market"
      ]
    },
    {
      "cell_type": "code",
      "metadata": {
        "id": "iyc49A96-3Ae"
      },
      "source": [
        "test_matrix_1 = mmread('/content/bcsstm25.mtx.gz')\n",
        "test_matrix_2 = mmread('/content/fidap011.mtx.gz')"
      ],
      "execution_count": null,
      "outputs": []
    },
    {
      "cell_type": "markdown",
      "metadata": {
        "id": "zPm9k46Mn6Hm"
      },
      "source": [
        "Converting the matrices to CSR format"
      ]
    },
    {
      "cell_type": "code",
      "metadata": {
        "id": "h3eKHIoS5sRt"
      },
      "source": [
        "test_matrix_1_csr = test_matrix_1.tocsr()\n",
        "test_matrix_2_csr = test_matrix_2.tocsr()"
      ],
      "execution_count": null,
      "outputs": []
    },
    {
      "cell_type": "markdown",
      "metadata": {
        "id": "lXjm2Lotn9oJ"
      },
      "source": [
        "Looking at the shapes"
      ]
    },
    {
      "cell_type": "code",
      "metadata": {
        "colab": {
          "base_uri": "https://localhost:8080/"
        },
        "id": "kKiRJ_8i6xDM",
        "outputId": "2c87ba9b-405a-4e04-9a10-57a1b08b0842"
      },
      "source": [
        "print(test_matrix_1_csr.shape)\n",
        "print(test_matrix_2_csr.shape)"
      ],
      "execution_count": null,
      "outputs": [
        {
          "output_type": "stream",
          "name": "stdout",
          "text": [
            "(15439, 15439)\n",
            "(16614, 16614)\n"
          ]
        }
      ]
    },
    {
      "cell_type": "markdown",
      "metadata": {
        "id": "SlWdOP4cn_7G"
      },
      "source": [
        "Creating the Ellpack-R object, the random vector to test with, and running the Scipy, cpu and gpu methods. For matrix 1."
      ]
    },
    {
      "cell_type": "code",
      "metadata": {
        "id": "ALNXUKml6vf0"
      },
      "source": [
        "N = test_matrix_1_csr.shape[0]\n",
        "my_sparse_mat_test = EllpackMatrix_test(test_matrix_1_csr)\n",
        "rand_mat = np.random.randn(my_sparse_mat_test.shape[1])\n",
        "standard_result = test_matrix_1 @ rand_mat\n",
        "numba_result = my_sparse_mat_test.matvec_numba(my_sparse_mat_test.ellpack_rl,\n",
        "my_sparse_mat_test.ellpack_data, my_sparse_mat_test.ellpack_indecies, \n",
        "my_sparse_mat_test.result, rand_mat)\n",
        "local_output, run_time = run_kernal(my_sparse_mat_test,rand_mat)"
      ],
      "execution_count": null,
      "outputs": []
    },
    {
      "cell_type": "markdown",
      "metadata": {
        "id": "UMNYoZUooZZY"
      },
      "source": [
        "Timing the methods\n",
        "\n",
        "\n"
      ]
    },
    {
      "cell_type": "code",
      "metadata": {
        "id": "9NhH1PM374Z_",
        "colab": {
          "base_uri": "https://localhost:8080/"
        },
        "outputId": "203aeb63-ee06-49c5-feb1-7f2982cd8b80"
      },
      "source": [
        "%timeit -o test_matrix_1 @ rand_mat\n",
        "%timeit -o matvec(my_sparse_mat_test.ellpack_rl,my_sparse_mat_test.ellpack_data, \n",
        "       my_sparse_mat_test.ellpack_indecies, my_sparse_mat_test.result, rand_mat)"
      ],
      "execution_count": null,
      "outputs": [
        {
          "output_type": "stream",
          "name": "stdout",
          "text": [
            "The slowest run took 22.63 times longer than the fastest. This could mean that an intermediate result is being cached.\n",
            "10000 loops, best of 5: 24.9 µs per loop\n",
            "The slowest run took 1476.77 times longer than the fastest. This could mean that an intermediate result is being cached.\n",
            "1 loop, best of 5: 287 µs per loop\n"
          ]
        },
        {
          "output_type": "execute_result",
          "data": {
            "text/plain": [
              "<TimeitResult : 1 loop, best of 5: 287 µs per loop>"
            ]
          },
          "metadata": {},
          "execution_count": 17
        }
      ]
    },
    {
      "cell_type": "code",
      "metadata": {
        "colab": {
          "base_uri": "https://localhost:8080/"
        },
        "id": "EWjjwhyStb3p",
        "outputId": "f905117e-b887-4dd0-a6a1-72cc3c0fe1b9"
      },
      "source": [
        "my_sparse_mat_test.ellpack_data = my_sparse_mat_test.ellpack_data.astype('float64')\n",
        "my_sparse_mat_test.ellpack_indecies = my_sparse_mat_test.ellpack_indecies.astype('float64')\n",
        "my_sparse_mat_test.ellpack_rl = my_sparse_mat_test.ellpack_rl.astype('float64')\n",
        "x = x.astype('float64')\n",
        "local_d = cuda.to_device(my_sparse_mat_test.ellpack_data)\n",
        "local_i = cuda.to_device(my_sparse_mat_test.ellpack_indecies)\n",
        "local_rl = cuda.to_device(my_sparse_mat_test.ellpack_rl)\n",
        "local_vec = cuda.to_device(rand_mat)\n",
        "output = np.empty_like(local_vec)\n",
        "local_output = cuda.to_device(output)\n",
        "gpu_matvec[(blockspergrid,1),(threadsperblock,1)](local_d, local_i, local_rl, \n",
        "                                                  local_vec, local_output)\n",
        "a = %timeit -o gpu_matvec[(blockspergrid,1),(threadsperblock,1)](local_d, local_i,\n",
        "                                                local_rl, local_vec, local_output)\n",
        "\n",
        "arr = np.empty(shape=output.shape, dtype = output.dtype)\n",
        "local_output.copy_to_host(arr)\n",
        "local_output = arr"
      ],
      "execution_count": null,
      "outputs": [
        {
          "output_type": "stream",
          "name": "stdout",
          "text": [
            "1000 loops, best of 5: 247 µs per loop\n"
          ]
        }
      ]
    },
    {
      "cell_type": "markdown",
      "metadata": {
        "id": "mHccIpSWzA2P"
      },
      "source": [
        "We can see that for this matrix bcsstm25 which is a very sparse matrix with low density and 1 element per row the csr matvec outperforms the Ellpack-R version, this is because when there is only 1 element per row CSR is just as compact as ellpack and uniform, and we are testing the baseline speed of my methods against that of Scipy which is clearly faster. "
      ]
    },
    {
      "cell_type": "markdown",
      "metadata": {
        "id": "s0KUAElDogX0"
      },
      "source": [
        "Creating the Ellpack-R object, the random vector to test with, and running the Scipy, cpu and gpu methods. For matrix 2."
      ]
    },
    {
      "cell_type": "code",
      "metadata": {
        "id": "HU-kOOcnJUT5"
      },
      "source": [
        "N = test_matrix_2_csr.shape[0]\n",
        "my_sparse_mat_test = EllpackMatrix_test(test_matrix_2_csr)\n",
        "rand_mat = np.random.randn(my_sparse_mat_test.shape[1])\n",
        "standard_result = test_matrix_2 @ rand_mat\n",
        "numba_result = my_sparse_mat_test.matvec_numba(my_sparse_mat_test.ellpack_rl,\n",
        "my_sparse_mat_test.ellpack_data, my_sparse_mat_test.ellpack_indecies, \n",
        "my_sparse_mat_test.result, rand_mat)\n",
        "local_output, run_time = run_kernal(my_sparse_mat_test,rand_mat)"
      ],
      "execution_count": null,
      "outputs": []
    },
    {
      "cell_type": "markdown",
      "metadata": {
        "id": "p3dq2g8lokLF"
      },
      "source": [
        "Timing the methods\n"
      ]
    },
    {
      "cell_type": "code",
      "metadata": {
        "colab": {
          "base_uri": "https://localhost:8080/"
        },
        "id": "ph0cfQgyJUzG",
        "outputId": "d3db04f0-c15c-4259-fb32-0b4d9fab83c4"
      },
      "source": [
        "%timeit -o test_matrix_2 @ rand_mat\n",
        "%timeit -o my_sparse_mat_test.matvec_numba(my_sparse_mat_test.ellpack_rl,\n",
        "my_sparse_mat_test.ellpack_data, my_sparse_mat_test.ellpack_indecies, \n",
        "my_sparse_mat_test.result, rand_mat)"
      ],
      "execution_count": null,
      "outputs": [
        {
          "output_type": "stream",
          "name": "stdout",
          "text": [
            "1000 loops, best of 5: 1.08 ms per loop\n",
            "1000 loops, best of 5: 1.22 ms per loop\n"
          ]
        },
        {
          "output_type": "execute_result",
          "data": {
            "text/plain": [
              "<TimeitResult : 1000 loops, best of 5: 1.22 ms per loop>"
            ]
          },
          "metadata": {},
          "execution_count": 29
        }
      ]
    },
    {
      "cell_type": "code",
      "metadata": {
        "colab": {
          "base_uri": "https://localhost:8080/"
        },
        "id": "E1uL9snDuelP",
        "outputId": "26ae4b83-842c-4010-b07e-b041ee28127f"
      },
      "source": [
        "my_sparse_mat_test.ellpack_data = my_sparse_mat_test.ellpack_data.astype('float64')\n",
        "my_sparse_mat_test.ellpack_indecies = my_sparse_mat_test.ellpack_indecies.astype('float64')\n",
        "my_sparse_mat_test.ellpack_rl = my_sparse_mat_test.ellpack_rl.astype('float64')\n",
        "x = x.astype('float64')\n",
        "local_d = cuda.to_device(my_sparse_mat_test.ellpack_data)\n",
        "local_i = cuda.to_device(my_sparse_mat_test.ellpack_indecies)\n",
        "local_rl = cuda.to_device(my_sparse_mat_test.ellpack_rl)\n",
        "local_vec = cuda.to_device(rand_mat)\n",
        "output = np.empty_like(local_vec)\n",
        "local_output = cuda.to_device(output)\n",
        "gpu_matvec[(blockspergrid,1),(threadsperblock,1)](local_d, local_i, local_rl, \n",
        "                                                  local_vec, local_output)\n",
        "a = %timeit -o gpu_matvec[(blockspergrid,1),(threadsperblock,1)](local_d, local_i,\n",
        "                                                local_rl, local_vec, local_output)\n",
        "\n",
        "arr = np.empty(shape=output.shape, dtype = output.dtype)\n",
        "local_output.copy_to_host(arr)\n",
        "local_output = arr"
      ],
      "execution_count": null,
      "outputs": [
        {
          "output_type": "stream",
          "name": "stdout",
          "text": [
            "1000 loops, best of 5: 244 µs per loop\n"
          ]
        }
      ]
    },
    {
      "cell_type": "markdown",
      "metadata": {
        "id": "_Eq4JY8W0jvu"
      },
      "source": [
        "We can see that for this matrix FIDAP011 the gpu clearly out performs the CSR and the cpu methods, this is a large matrix with high number of elements per row but not a crazy standard deviation making it a good candidate for Ellpack-R."
      ]
    },
    {
      "cell_type": "markdown",
      "metadata": {
        "id": "5fwlG82oaaYL"
      },
      "source": [
        "##Section 4"
      ]
    },
    {
      "cell_type": "code",
      "metadata": {
        "id": "RXwc8-rRmFMF"
      },
      "source": [
        "threadsperblock = 16\n",
        "blockspergrid = (len(x) + (threadsperblock - 1)) // threadsperblock\n",
        "output = np.zeros(my_sparse_mat.ellpack_rl.shape[0], dtype=np.float32)\n",
        "@cuda.jit()\n",
        "def gpu_matvec_fast(my_sparse_mat_d, my_sparse_mat_i, my_sparse_mat_rl, vec, output):\n",
        "  local_data = cuda.shared.array((81), dtype = numba.float32)\n",
        "  local_ind = cuda.shared.array((81), dtype = numba.float32)\n",
        "  local_rl = cuda.shared.array(N, dtype = numba.float32)\n",
        "  \n",
        "  \n",
        "  i = cuda.grid(1)\n",
        "  tx = cuda.threadIdx.x\n",
        "  bdim = cuda.blockDim.x\n",
        "  bx = cuda.blockIdx.x\n",
        "\n",
        "  if i < vec.shape[0]:\n",
        "    local_data[tx] = my_sparse_mat_d[tx] \n",
        "    local_ind[tx] = my_sparse_mat_i[tx]\n",
        "    local_rl[tx] = my_sparse_mat_rl[tx]\n",
        "\n",
        "    tmp = 0.\n",
        "    cuda.syncthreads()\n",
        "    for k in range(local_rl[bx]):\n",
        "      tmp += local_data[k] * vec[int(local_ind[k])]\n",
        "      cuda.syncthreads()\n",
        "    output[i] = tmp\n",
        "\n",
        "def run_kernal_fast(my_sparse_mat, x):\n",
        "  my_sparse_mat.ellpack_data = my_sparse_mat.ellpack_data.astype('float64')\n",
        "  my_sparse_mat.ellpack_indecies = my_sparse_mat.ellpack_indecies.astype('float64')\n",
        "  my_sparse_mat.ellpack_rl = my_sparse_mat.ellpack_rl.astype('float64')\n",
        "  x = x.astype('float64')\n",
        "  loacl_d = cuda.to_device(my_sparse_mat.ellpack_data.flatten())\n",
        "  loacl_i = cuda.to_device(my_sparse_mat.ellpack_indecies.flatten())\n",
        "  local_rl = cuda.to_device(my_sparse_mat.ellpack_rl)\n",
        "  local_vec = cuda.to_device(x)\n",
        "  output = np.empty_like(local_vec)\n",
        "  local_output = cuda.to_device(output)\n",
        "\n",
        "  gpu_matvec_fast[(blockspergrid,1),(threadsperblock,1)](loacl_d, loacl_i, local_rl, x, local_output)\n",
        "\n",
        "  arr = np.empty(shape=output.shape, dtype = output.dtype)\n",
        "  local_output.copy_to_host(arr)\n",
        "  local_output = arr\n",
        "  return local_output"
      ],
      "execution_count": null,
      "outputs": []
    },
    {
      "cell_type": "code",
      "metadata": {
        "colab": {
          "base_uri": "https://localhost:8080/"
        },
        "id": "3okKlNf4OQQG",
        "outputId": "e21b5cc0-d17c-4c0a-90cf-0a1e1f4fedc5"
      },
      "source": [
        "my_sparse_mat.ellpack_data = my_sparse_mat.ellpack_data.astype('float64')\n",
        "my_sparse_mat.ellpack_indecies = my_sparse_mat.ellpack_indecies.astype('float64')\n",
        "my_sparse_mat.ellpack_rl = my_sparse_mat.ellpack_rl.astype('float64')\n",
        "x = x.astype('float64')\n",
        "loacl_d = my_sparse_mat.ellpack_data.flatten()\n",
        "loacl_i = my_sparse_mat.ellpack_indecies.flatten()\n",
        "local_rl = my_sparse_mat.ellpack_rl\n",
        "local_vec = x\n",
        "output = np.empty_like(local_vec)\n",
        "local_output = output\n",
        "\n",
        "gpu_matvec_fast[(blockspergrid,2),(threadsperblock,1)](loacl_d, loacl_i, local_rl, x, local_output)\n",
        "%timeit gpu_matvec_fast[(blockspergrid,2),(threadsperblock,1)](loacl_d, loacl_i, local_rl, x, local_output)\n",
        "\n",
        "arr = np.empty(shape=output.shape, dtype = output.dtype)\n",
        "#local_output.copy_to_host(arr)\n",
        "local_output = arr\n"
      ],
      "execution_count": null,
      "outputs": [
        {
          "output_type": "error",
          "ename": "TypingError",
          "evalue": "ignored",
          "traceback": [
            "\u001b[0;31m---------------------------------------------------------------------------\u001b[0m",
            "\u001b[0;31mTypingError\u001b[0m                               Traceback (most recent call last)",
            "\u001b[0;32m<ipython-input-43-73ec43eadc6f>\u001b[0m in \u001b[0;36m<module>\u001b[0;34m()\u001b[0m\n\u001b[1;32m     10\u001b[0m \u001b[0mlocal_output\u001b[0m \u001b[0;34m=\u001b[0m \u001b[0moutput\u001b[0m\u001b[0;34m\u001b[0m\u001b[0;34m\u001b[0m\u001b[0m\n\u001b[1;32m     11\u001b[0m \u001b[0;34m\u001b[0m\u001b[0m\n\u001b[0;32m---> 12\u001b[0;31m \u001b[0mgpu_matvec_fast\u001b[0m\u001b[0;34m[\u001b[0m\u001b[0;34m(\u001b[0m\u001b[0mblockspergrid\u001b[0m\u001b[0;34m,\u001b[0m\u001b[0;36m2\u001b[0m\u001b[0;34m)\u001b[0m\u001b[0;34m,\u001b[0m\u001b[0;34m(\u001b[0m\u001b[0mthreadsperblock\u001b[0m\u001b[0;34m,\u001b[0m\u001b[0;36m1\u001b[0m\u001b[0;34m)\u001b[0m\u001b[0;34m]\u001b[0m\u001b[0;34m(\u001b[0m\u001b[0mloacl_d\u001b[0m\u001b[0;34m,\u001b[0m \u001b[0mloacl_i\u001b[0m\u001b[0;34m,\u001b[0m \u001b[0mlocal_rl\u001b[0m\u001b[0;34m,\u001b[0m \u001b[0mx\u001b[0m\u001b[0;34m,\u001b[0m \u001b[0mlocal_output\u001b[0m\u001b[0;34m)\u001b[0m\u001b[0;34m\u001b[0m\u001b[0;34m\u001b[0m\u001b[0m\n\u001b[0m\u001b[1;32m     13\u001b[0m \u001b[0mget_ipython\u001b[0m\u001b[0;34m(\u001b[0m\u001b[0;34m)\u001b[0m\u001b[0;34m.\u001b[0m\u001b[0mmagic\u001b[0m\u001b[0;34m(\u001b[0m\u001b[0;34m'timeit gpu_matvec_fast[(blockspergrid,2),(threadsperblock,1)](loacl_d, loacl_i, local_rl, x, local_output)'\u001b[0m\u001b[0;34m)\u001b[0m\u001b[0;34m\u001b[0m\u001b[0;34m\u001b[0m\u001b[0m\n\u001b[1;32m     14\u001b[0m \u001b[0;34m\u001b[0m\u001b[0m\n",
            "\u001b[0;32m/usr/local/lib/python3.7/dist-packages/numba/cuda/compiler.py\u001b[0m in \u001b[0;36m__call__\u001b[0;34m(self, *args)\u001b[0m\n\u001b[1;32m    768\u001b[0m     \u001b[0;32mdef\u001b[0m \u001b[0m__call__\u001b[0m\u001b[0;34m(\u001b[0m\u001b[0mself\u001b[0m\u001b[0;34m,\u001b[0m \u001b[0;34m*\u001b[0m\u001b[0margs\u001b[0m\u001b[0;34m)\u001b[0m\u001b[0;34m:\u001b[0m\u001b[0;34m\u001b[0m\u001b[0;34m\u001b[0m\u001b[0m\n\u001b[1;32m    769\u001b[0m         return self.dispatcher.call(args, self.griddim, self.blockdim,\n\u001b[0;32m--> 770\u001b[0;31m                                     self.stream, self.sharedmem)\n\u001b[0m\u001b[1;32m    771\u001b[0m \u001b[0;34m\u001b[0m\u001b[0m\n\u001b[1;32m    772\u001b[0m \u001b[0;34m\u001b[0m\u001b[0m\n",
            "\u001b[0;32m/usr/local/lib/python3.7/dist-packages/numba/cuda/compiler.py\u001b[0m in \u001b[0;36mcall\u001b[0;34m(self, args, griddim, blockdim, stream, sharedmem)\u001b[0m\n\u001b[1;32m    859\u001b[0m         argtypes = tuple(\n\u001b[1;32m    860\u001b[0m             [self.typingctx.resolve_argument_type(a) for a in args])\n\u001b[0;32m--> 861\u001b[0;31m         \u001b[0mkernel\u001b[0m \u001b[0;34m=\u001b[0m \u001b[0mself\u001b[0m\u001b[0;34m.\u001b[0m\u001b[0mcompile\u001b[0m\u001b[0;34m(\u001b[0m\u001b[0margtypes\u001b[0m\u001b[0;34m)\u001b[0m\u001b[0;34m\u001b[0m\u001b[0;34m\u001b[0m\u001b[0m\n\u001b[0m\u001b[1;32m    862\u001b[0m         \u001b[0mkernel\u001b[0m\u001b[0;34m.\u001b[0m\u001b[0mlaunch\u001b[0m\u001b[0;34m(\u001b[0m\u001b[0margs\u001b[0m\u001b[0;34m,\u001b[0m \u001b[0mgriddim\u001b[0m\u001b[0;34m,\u001b[0m \u001b[0mblockdim\u001b[0m\u001b[0;34m,\u001b[0m \u001b[0mstream\u001b[0m\u001b[0;34m,\u001b[0m \u001b[0msharedmem\u001b[0m\u001b[0;34m)\u001b[0m\u001b[0;34m\u001b[0m\u001b[0;34m\u001b[0m\u001b[0m\n\u001b[1;32m    863\u001b[0m \u001b[0;34m\u001b[0m\u001b[0m\n",
            "\u001b[0;32m/usr/local/lib/python3.7/dist-packages/numba/cuda/compiler.py\u001b[0m in \u001b[0;36mcompile\u001b[0;34m(self, sig)\u001b[0m\n\u001b[1;32m    930\u001b[0m             kernel = compile_kernel(self.py_func, argtypes,\n\u001b[1;32m    931\u001b[0m                                     \u001b[0mlink\u001b[0m\u001b[0;34m=\u001b[0m\u001b[0mself\u001b[0m\u001b[0;34m.\u001b[0m\u001b[0mlink\u001b[0m\u001b[0;34m,\u001b[0m\u001b[0;34m\u001b[0m\u001b[0;34m\u001b[0m\u001b[0m\n\u001b[0;32m--> 932\u001b[0;31m                                     **self.targetoptions)\n\u001b[0m\u001b[1;32m    933\u001b[0m             \u001b[0mself\u001b[0m\u001b[0;34m.\u001b[0m\u001b[0mdefinitions\u001b[0m\u001b[0;34m[\u001b[0m\u001b[0;34m(\u001b[0m\u001b[0mcc\u001b[0m\u001b[0;34m,\u001b[0m \u001b[0margtypes\u001b[0m\u001b[0;34m)\u001b[0m\u001b[0;34m]\u001b[0m \u001b[0;34m=\u001b[0m \u001b[0mkernel\u001b[0m\u001b[0;34m\u001b[0m\u001b[0;34m\u001b[0m\u001b[0m\n\u001b[1;32m    934\u001b[0m             \u001b[0;32mif\u001b[0m \u001b[0mself\u001b[0m\u001b[0;34m.\u001b[0m\u001b[0m_bind\u001b[0m\u001b[0;34m:\u001b[0m\u001b[0;34m\u001b[0m\u001b[0;34m\u001b[0m\u001b[0m\n",
            "\u001b[0;32m/usr/local/lib/python3.7/dist-packages/numba/core/compiler_lock.py\u001b[0m in \u001b[0;36m_acquire_compile_lock\u001b[0;34m(*args, **kwargs)\u001b[0m\n\u001b[1;32m     30\u001b[0m         \u001b[0;32mdef\u001b[0m \u001b[0m_acquire_compile_lock\u001b[0m\u001b[0;34m(\u001b[0m\u001b[0;34m*\u001b[0m\u001b[0margs\u001b[0m\u001b[0;34m,\u001b[0m \u001b[0;34m**\u001b[0m\u001b[0mkwargs\u001b[0m\u001b[0;34m)\u001b[0m\u001b[0;34m:\u001b[0m\u001b[0;34m\u001b[0m\u001b[0;34m\u001b[0m\u001b[0m\n\u001b[1;32m     31\u001b[0m             \u001b[0;32mwith\u001b[0m \u001b[0mself\u001b[0m\u001b[0;34m:\u001b[0m\u001b[0;34m\u001b[0m\u001b[0;34m\u001b[0m\u001b[0m\n\u001b[0;32m---> 32\u001b[0;31m                 \u001b[0;32mreturn\u001b[0m \u001b[0mfunc\u001b[0m\u001b[0;34m(\u001b[0m\u001b[0;34m*\u001b[0m\u001b[0margs\u001b[0m\u001b[0;34m,\u001b[0m \u001b[0;34m**\u001b[0m\u001b[0mkwargs\u001b[0m\u001b[0;34m)\u001b[0m\u001b[0;34m\u001b[0m\u001b[0;34m\u001b[0m\u001b[0m\n\u001b[0m\u001b[1;32m     33\u001b[0m         \u001b[0;32mreturn\u001b[0m \u001b[0m_acquire_compile_lock\u001b[0m\u001b[0;34m\u001b[0m\u001b[0;34m\u001b[0m\u001b[0m\n\u001b[1;32m     34\u001b[0m \u001b[0;34m\u001b[0m\u001b[0m\n",
            "\u001b[0;32m/usr/local/lib/python3.7/dist-packages/numba/cuda/compiler.py\u001b[0m in \u001b[0;36mcompile_kernel\u001b[0;34m(pyfunc, args, link, debug, inline, fastmath, extensions, max_registers, opt)\u001b[0m\n\u001b[1;32m     55\u001b[0m def compile_kernel(pyfunc, args, link, debug=False, inline=False,\n\u001b[1;32m     56\u001b[0m                    fastmath=False, extensions=[], max_registers=None, opt=True):\n\u001b[0;32m---> 57\u001b[0;31m     \u001b[0mcres\u001b[0m \u001b[0;34m=\u001b[0m \u001b[0mcompile_cuda\u001b[0m\u001b[0;34m(\u001b[0m\u001b[0mpyfunc\u001b[0m\u001b[0;34m,\u001b[0m \u001b[0mtypes\u001b[0m\u001b[0;34m.\u001b[0m\u001b[0mvoid\u001b[0m\u001b[0;34m,\u001b[0m \u001b[0margs\u001b[0m\u001b[0;34m,\u001b[0m \u001b[0mdebug\u001b[0m\u001b[0;34m=\u001b[0m\u001b[0mdebug\u001b[0m\u001b[0;34m,\u001b[0m \u001b[0minline\u001b[0m\u001b[0;34m=\u001b[0m\u001b[0minline\u001b[0m\u001b[0;34m)\u001b[0m\u001b[0;34m\u001b[0m\u001b[0;34m\u001b[0m\u001b[0m\n\u001b[0m\u001b[1;32m     58\u001b[0m     \u001b[0mfname\u001b[0m \u001b[0;34m=\u001b[0m \u001b[0mcres\u001b[0m\u001b[0;34m.\u001b[0m\u001b[0mfndesc\u001b[0m\u001b[0;34m.\u001b[0m\u001b[0mllvm_func_name\u001b[0m\u001b[0;34m\u001b[0m\u001b[0;34m\u001b[0m\u001b[0m\n\u001b[1;32m     59\u001b[0m     lib, kernel = cres.target_context.prepare_cuda_kernel(cres.library, fname,\n",
            "\u001b[0;32m/usr/local/lib/python3.7/dist-packages/numba/core/compiler_lock.py\u001b[0m in \u001b[0;36m_acquire_compile_lock\u001b[0;34m(*args, **kwargs)\u001b[0m\n\u001b[1;32m     30\u001b[0m         \u001b[0;32mdef\u001b[0m \u001b[0m_acquire_compile_lock\u001b[0m\u001b[0;34m(\u001b[0m\u001b[0;34m*\u001b[0m\u001b[0margs\u001b[0m\u001b[0;34m,\u001b[0m \u001b[0;34m**\u001b[0m\u001b[0mkwargs\u001b[0m\u001b[0;34m)\u001b[0m\u001b[0;34m:\u001b[0m\u001b[0;34m\u001b[0m\u001b[0;34m\u001b[0m\u001b[0m\n\u001b[1;32m     31\u001b[0m             \u001b[0;32mwith\u001b[0m \u001b[0mself\u001b[0m\u001b[0;34m:\u001b[0m\u001b[0;34m\u001b[0m\u001b[0;34m\u001b[0m\u001b[0m\n\u001b[0;32m---> 32\u001b[0;31m                 \u001b[0;32mreturn\u001b[0m \u001b[0mfunc\u001b[0m\u001b[0;34m(\u001b[0m\u001b[0;34m*\u001b[0m\u001b[0margs\u001b[0m\u001b[0;34m,\u001b[0m \u001b[0;34m**\u001b[0m\u001b[0mkwargs\u001b[0m\u001b[0;34m)\u001b[0m\u001b[0;34m\u001b[0m\u001b[0;34m\u001b[0m\u001b[0m\n\u001b[0m\u001b[1;32m     33\u001b[0m         \u001b[0;32mreturn\u001b[0m \u001b[0m_acquire_compile_lock\u001b[0m\u001b[0;34m\u001b[0m\u001b[0;34m\u001b[0m\u001b[0m\n\u001b[1;32m     34\u001b[0m \u001b[0;34m\u001b[0m\u001b[0m\n",
            "\u001b[0;32m/usr/local/lib/python3.7/dist-packages/numba/cuda/compiler.py\u001b[0m in \u001b[0;36mcompile_cuda\u001b[0;34m(pyfunc, return_type, args, debug, inline)\u001b[0m\n\u001b[1;32m     44\u001b[0m                                   \u001b[0mreturn_type\u001b[0m\u001b[0;34m=\u001b[0m\u001b[0mreturn_type\u001b[0m\u001b[0;34m,\u001b[0m\u001b[0;34m\u001b[0m\u001b[0;34m\u001b[0m\u001b[0m\n\u001b[1;32m     45\u001b[0m                                   \u001b[0mflags\u001b[0m\u001b[0;34m=\u001b[0m\u001b[0mflags\u001b[0m\u001b[0;34m,\u001b[0m\u001b[0;34m\u001b[0m\u001b[0;34m\u001b[0m\u001b[0m\n\u001b[0;32m---> 46\u001b[0;31m                                   locals={})\n\u001b[0m\u001b[1;32m     47\u001b[0m \u001b[0;34m\u001b[0m\u001b[0m\n\u001b[1;32m     48\u001b[0m     \u001b[0mlibrary\u001b[0m \u001b[0;34m=\u001b[0m \u001b[0mcres\u001b[0m\u001b[0;34m.\u001b[0m\u001b[0mlibrary\u001b[0m\u001b[0;34m\u001b[0m\u001b[0;34m\u001b[0m\u001b[0m\n",
            "\u001b[0;32m/usr/local/lib/python3.7/dist-packages/numba/core/compiler.py\u001b[0m in \u001b[0;36mcompile_extra\u001b[0;34m(typingctx, targetctx, func, args, return_type, flags, locals, library, pipeline_class)\u001b[0m\n\u001b[1;32m    625\u001b[0m     pipeline = pipeline_class(typingctx, targetctx, library,\n\u001b[1;32m    626\u001b[0m                               args, return_type, flags, locals)\n\u001b[0;32m--> 627\u001b[0;31m     \u001b[0;32mreturn\u001b[0m \u001b[0mpipeline\u001b[0m\u001b[0;34m.\u001b[0m\u001b[0mcompile_extra\u001b[0m\u001b[0;34m(\u001b[0m\u001b[0mfunc\u001b[0m\u001b[0;34m)\u001b[0m\u001b[0;34m\u001b[0m\u001b[0;34m\u001b[0m\u001b[0m\n\u001b[0m\u001b[1;32m    628\u001b[0m \u001b[0;34m\u001b[0m\u001b[0m\n\u001b[1;32m    629\u001b[0m \u001b[0;34m\u001b[0m\u001b[0m\n",
            "\u001b[0;32m/usr/local/lib/python3.7/dist-packages/numba/core/compiler.py\u001b[0m in \u001b[0;36mcompile_extra\u001b[0;34m(self, func)\u001b[0m\n\u001b[1;32m    361\u001b[0m         \u001b[0mself\u001b[0m\u001b[0;34m.\u001b[0m\u001b[0mstate\u001b[0m\u001b[0;34m.\u001b[0m\u001b[0mlifted\u001b[0m \u001b[0;34m=\u001b[0m \u001b[0;34m(\u001b[0m\u001b[0;34m)\u001b[0m\u001b[0;34m\u001b[0m\u001b[0;34m\u001b[0m\u001b[0m\n\u001b[1;32m    362\u001b[0m         \u001b[0mself\u001b[0m\u001b[0;34m.\u001b[0m\u001b[0mstate\u001b[0m\u001b[0;34m.\u001b[0m\u001b[0mlifted_from\u001b[0m \u001b[0;34m=\u001b[0m \u001b[0;32mNone\u001b[0m\u001b[0;34m\u001b[0m\u001b[0;34m\u001b[0m\u001b[0m\n\u001b[0;32m--> 363\u001b[0;31m         \u001b[0;32mreturn\u001b[0m \u001b[0mself\u001b[0m\u001b[0;34m.\u001b[0m\u001b[0m_compile_bytecode\u001b[0m\u001b[0;34m(\u001b[0m\u001b[0;34m)\u001b[0m\u001b[0;34m\u001b[0m\u001b[0;34m\u001b[0m\u001b[0m\n\u001b[0m\u001b[1;32m    364\u001b[0m \u001b[0;34m\u001b[0m\u001b[0m\n\u001b[1;32m    365\u001b[0m     \u001b[0;32mdef\u001b[0m \u001b[0mcompile_ir\u001b[0m\u001b[0;34m(\u001b[0m\u001b[0mself\u001b[0m\u001b[0;34m,\u001b[0m \u001b[0mfunc_ir\u001b[0m\u001b[0;34m,\u001b[0m \u001b[0mlifted\u001b[0m\u001b[0;34m=\u001b[0m\u001b[0;34m(\u001b[0m\u001b[0;34m)\u001b[0m\u001b[0;34m,\u001b[0m \u001b[0mlifted_from\u001b[0m\u001b[0;34m=\u001b[0m\u001b[0;32mNone\u001b[0m\u001b[0;34m)\u001b[0m\u001b[0;34m:\u001b[0m\u001b[0;34m\u001b[0m\u001b[0;34m\u001b[0m\u001b[0m\n",
            "\u001b[0;32m/usr/local/lib/python3.7/dist-packages/numba/core/compiler.py\u001b[0m in \u001b[0;36m_compile_bytecode\u001b[0;34m(self)\u001b[0m\n\u001b[1;32m    423\u001b[0m         \"\"\"\n\u001b[1;32m    424\u001b[0m         \u001b[0;32massert\u001b[0m \u001b[0mself\u001b[0m\u001b[0;34m.\u001b[0m\u001b[0mstate\u001b[0m\u001b[0;34m.\u001b[0m\u001b[0mfunc_ir\u001b[0m \u001b[0;32mis\u001b[0m \u001b[0;32mNone\u001b[0m\u001b[0;34m\u001b[0m\u001b[0;34m\u001b[0m\u001b[0m\n\u001b[0;32m--> 425\u001b[0;31m         \u001b[0;32mreturn\u001b[0m \u001b[0mself\u001b[0m\u001b[0;34m.\u001b[0m\u001b[0m_compile_core\u001b[0m\u001b[0;34m(\u001b[0m\u001b[0;34m)\u001b[0m\u001b[0;34m\u001b[0m\u001b[0;34m\u001b[0m\u001b[0m\n\u001b[0m\u001b[1;32m    426\u001b[0m \u001b[0;34m\u001b[0m\u001b[0m\n\u001b[1;32m    427\u001b[0m     \u001b[0;32mdef\u001b[0m \u001b[0m_compile_ir\u001b[0m\u001b[0;34m(\u001b[0m\u001b[0mself\u001b[0m\u001b[0;34m)\u001b[0m\u001b[0;34m:\u001b[0m\u001b[0;34m\u001b[0m\u001b[0;34m\u001b[0m\u001b[0m\n",
            "\u001b[0;32m/usr/local/lib/python3.7/dist-packages/numba/core/compiler.py\u001b[0m in \u001b[0;36m_compile_core\u001b[0;34m(self)\u001b[0m\n\u001b[1;32m    403\u001b[0m                 \u001b[0mself\u001b[0m\u001b[0;34m.\u001b[0m\u001b[0mstate\u001b[0m\u001b[0;34m.\u001b[0m\u001b[0mstatus\u001b[0m\u001b[0;34m.\u001b[0m\u001b[0mfail_reason\u001b[0m \u001b[0;34m=\u001b[0m \u001b[0me\u001b[0m\u001b[0;34m\u001b[0m\u001b[0;34m\u001b[0m\u001b[0m\n\u001b[1;32m    404\u001b[0m                 \u001b[0;32mif\u001b[0m \u001b[0mis_final_pipeline\u001b[0m\u001b[0;34m:\u001b[0m\u001b[0;34m\u001b[0m\u001b[0;34m\u001b[0m\u001b[0m\n\u001b[0;32m--> 405\u001b[0;31m                     \u001b[0;32mraise\u001b[0m \u001b[0me\u001b[0m\u001b[0;34m\u001b[0m\u001b[0;34m\u001b[0m\u001b[0m\n\u001b[0m\u001b[1;32m    406\u001b[0m         \u001b[0;32melse\u001b[0m\u001b[0;34m:\u001b[0m\u001b[0;34m\u001b[0m\u001b[0;34m\u001b[0m\u001b[0m\n\u001b[1;32m    407\u001b[0m             \u001b[0;32mraise\u001b[0m \u001b[0mCompilerError\u001b[0m\u001b[0;34m(\u001b[0m\u001b[0;34m\"All available pipelines exhausted\"\u001b[0m\u001b[0;34m)\u001b[0m\u001b[0;34m\u001b[0m\u001b[0;34m\u001b[0m\u001b[0m\n",
            "\u001b[0;32m/usr/local/lib/python3.7/dist-packages/numba/core/compiler.py\u001b[0m in \u001b[0;36m_compile_core\u001b[0;34m(self)\u001b[0m\n\u001b[1;32m    394\u001b[0m             \u001b[0mres\u001b[0m \u001b[0;34m=\u001b[0m \u001b[0;32mNone\u001b[0m\u001b[0;34m\u001b[0m\u001b[0;34m\u001b[0m\u001b[0m\n\u001b[1;32m    395\u001b[0m             \u001b[0;32mtry\u001b[0m\u001b[0;34m:\u001b[0m\u001b[0;34m\u001b[0m\u001b[0;34m\u001b[0m\u001b[0m\n\u001b[0;32m--> 396\u001b[0;31m                 \u001b[0mpm\u001b[0m\u001b[0;34m.\u001b[0m\u001b[0mrun\u001b[0m\u001b[0;34m(\u001b[0m\u001b[0mself\u001b[0m\u001b[0;34m.\u001b[0m\u001b[0mstate\u001b[0m\u001b[0;34m)\u001b[0m\u001b[0;34m\u001b[0m\u001b[0;34m\u001b[0m\u001b[0m\n\u001b[0m\u001b[1;32m    397\u001b[0m                 \u001b[0;32mif\u001b[0m \u001b[0mself\u001b[0m\u001b[0;34m.\u001b[0m\u001b[0mstate\u001b[0m\u001b[0;34m.\u001b[0m\u001b[0mcr\u001b[0m \u001b[0;32mis\u001b[0m \u001b[0;32mnot\u001b[0m \u001b[0;32mNone\u001b[0m\u001b[0;34m:\u001b[0m\u001b[0;34m\u001b[0m\u001b[0;34m\u001b[0m\u001b[0m\n\u001b[1;32m    398\u001b[0m                     \u001b[0;32mbreak\u001b[0m\u001b[0;34m\u001b[0m\u001b[0;34m\u001b[0m\u001b[0m\n",
            "\u001b[0;32m/usr/local/lib/python3.7/dist-packages/numba/core/compiler_machinery.py\u001b[0m in \u001b[0;36mrun\u001b[0;34m(self, state)\u001b[0m\n\u001b[1;32m    339\u001b[0m                     \u001b[0;34m(\u001b[0m\u001b[0mself\u001b[0m\u001b[0;34m.\u001b[0m\u001b[0mpipeline_name\u001b[0m\u001b[0;34m,\u001b[0m \u001b[0mpass_desc\u001b[0m\u001b[0;34m)\u001b[0m\u001b[0;34m\u001b[0m\u001b[0;34m\u001b[0m\u001b[0m\n\u001b[1;32m    340\u001b[0m                 \u001b[0mpatched_exception\u001b[0m \u001b[0;34m=\u001b[0m \u001b[0mself\u001b[0m\u001b[0;34m.\u001b[0m\u001b[0m_patch_error\u001b[0m\u001b[0;34m(\u001b[0m\u001b[0mmsg\u001b[0m\u001b[0;34m,\u001b[0m \u001b[0me\u001b[0m\u001b[0;34m)\u001b[0m\u001b[0;34m\u001b[0m\u001b[0;34m\u001b[0m\u001b[0m\n\u001b[0;32m--> 341\u001b[0;31m                 \u001b[0;32mraise\u001b[0m \u001b[0mpatched_exception\u001b[0m\u001b[0;34m\u001b[0m\u001b[0;34m\u001b[0m\u001b[0m\n\u001b[0m\u001b[1;32m    342\u001b[0m \u001b[0;34m\u001b[0m\u001b[0m\n\u001b[1;32m    343\u001b[0m     \u001b[0;32mdef\u001b[0m \u001b[0mdependency_analysis\u001b[0m\u001b[0;34m(\u001b[0m\u001b[0mself\u001b[0m\u001b[0;34m)\u001b[0m\u001b[0;34m:\u001b[0m\u001b[0;34m\u001b[0m\u001b[0;34m\u001b[0m\u001b[0m\n",
            "\u001b[0;32m/usr/local/lib/python3.7/dist-packages/numba/core/compiler_machinery.py\u001b[0m in \u001b[0;36mrun\u001b[0;34m(self, state)\u001b[0m\n\u001b[1;32m    330\u001b[0m                 \u001b[0mpass_inst\u001b[0m \u001b[0;34m=\u001b[0m \u001b[0m_pass_registry\u001b[0m\u001b[0;34m.\u001b[0m\u001b[0mget\u001b[0m\u001b[0;34m(\u001b[0m\u001b[0mpss\u001b[0m\u001b[0;34m)\u001b[0m\u001b[0;34m.\u001b[0m\u001b[0mpass_inst\u001b[0m\u001b[0;34m\u001b[0m\u001b[0;34m\u001b[0m\u001b[0m\n\u001b[1;32m    331\u001b[0m                 \u001b[0;32mif\u001b[0m \u001b[0misinstance\u001b[0m\u001b[0;34m(\u001b[0m\u001b[0mpass_inst\u001b[0m\u001b[0;34m,\u001b[0m \u001b[0mCompilerPass\u001b[0m\u001b[0;34m)\u001b[0m\u001b[0;34m:\u001b[0m\u001b[0;34m\u001b[0m\u001b[0;34m\u001b[0m\u001b[0m\n\u001b[0;32m--> 332\u001b[0;31m                     \u001b[0mself\u001b[0m\u001b[0;34m.\u001b[0m\u001b[0m_runPass\u001b[0m\u001b[0;34m(\u001b[0m\u001b[0midx\u001b[0m\u001b[0;34m,\u001b[0m \u001b[0mpass_inst\u001b[0m\u001b[0;34m,\u001b[0m \u001b[0mstate\u001b[0m\u001b[0;34m)\u001b[0m\u001b[0;34m\u001b[0m\u001b[0;34m\u001b[0m\u001b[0m\n\u001b[0m\u001b[1;32m    333\u001b[0m                 \u001b[0;32melse\u001b[0m\u001b[0;34m:\u001b[0m\u001b[0;34m\u001b[0m\u001b[0;34m\u001b[0m\u001b[0m\n\u001b[1;32m    334\u001b[0m                     \u001b[0;32mraise\u001b[0m \u001b[0mBaseException\u001b[0m\u001b[0;34m(\u001b[0m\u001b[0;34m\"Legacy pass in use\"\u001b[0m\u001b[0;34m)\u001b[0m\u001b[0;34m\u001b[0m\u001b[0;34m\u001b[0m\u001b[0m\n",
            "\u001b[0;32m/usr/local/lib/python3.7/dist-packages/numba/core/compiler_lock.py\u001b[0m in \u001b[0;36m_acquire_compile_lock\u001b[0;34m(*args, **kwargs)\u001b[0m\n\u001b[1;32m     30\u001b[0m         \u001b[0;32mdef\u001b[0m \u001b[0m_acquire_compile_lock\u001b[0m\u001b[0;34m(\u001b[0m\u001b[0;34m*\u001b[0m\u001b[0margs\u001b[0m\u001b[0;34m,\u001b[0m \u001b[0;34m**\u001b[0m\u001b[0mkwargs\u001b[0m\u001b[0;34m)\u001b[0m\u001b[0;34m:\u001b[0m\u001b[0;34m\u001b[0m\u001b[0;34m\u001b[0m\u001b[0m\n\u001b[1;32m     31\u001b[0m             \u001b[0;32mwith\u001b[0m \u001b[0mself\u001b[0m\u001b[0;34m:\u001b[0m\u001b[0;34m\u001b[0m\u001b[0;34m\u001b[0m\u001b[0m\n\u001b[0;32m---> 32\u001b[0;31m                 \u001b[0;32mreturn\u001b[0m \u001b[0mfunc\u001b[0m\u001b[0;34m(\u001b[0m\u001b[0;34m*\u001b[0m\u001b[0margs\u001b[0m\u001b[0;34m,\u001b[0m \u001b[0;34m**\u001b[0m\u001b[0mkwargs\u001b[0m\u001b[0;34m)\u001b[0m\u001b[0;34m\u001b[0m\u001b[0;34m\u001b[0m\u001b[0m\n\u001b[0m\u001b[1;32m     33\u001b[0m         \u001b[0;32mreturn\u001b[0m \u001b[0m_acquire_compile_lock\u001b[0m\u001b[0;34m\u001b[0m\u001b[0;34m\u001b[0m\u001b[0m\n\u001b[1;32m     34\u001b[0m \u001b[0;34m\u001b[0m\u001b[0m\n",
            "\u001b[0;32m/usr/local/lib/python3.7/dist-packages/numba/core/compiler_machinery.py\u001b[0m in \u001b[0;36m_runPass\u001b[0;34m(self, index, pss, internal_state)\u001b[0m\n\u001b[1;32m    289\u001b[0m             \u001b[0mmutated\u001b[0m \u001b[0;34m|=\u001b[0m \u001b[0mcheck\u001b[0m\u001b[0;34m(\u001b[0m\u001b[0mpss\u001b[0m\u001b[0;34m.\u001b[0m\u001b[0mrun_initialization\u001b[0m\u001b[0;34m,\u001b[0m \u001b[0minternal_state\u001b[0m\u001b[0;34m)\u001b[0m\u001b[0;34m\u001b[0m\u001b[0;34m\u001b[0m\u001b[0m\n\u001b[1;32m    290\u001b[0m         \u001b[0;32mwith\u001b[0m \u001b[0mSimpleTimer\u001b[0m\u001b[0;34m(\u001b[0m\u001b[0;34m)\u001b[0m \u001b[0;32mas\u001b[0m \u001b[0mpass_time\u001b[0m\u001b[0;34m:\u001b[0m\u001b[0;34m\u001b[0m\u001b[0;34m\u001b[0m\u001b[0m\n\u001b[0;32m--> 291\u001b[0;31m             \u001b[0mmutated\u001b[0m \u001b[0;34m|=\u001b[0m \u001b[0mcheck\u001b[0m\u001b[0;34m(\u001b[0m\u001b[0mpss\u001b[0m\u001b[0;34m.\u001b[0m\u001b[0mrun_pass\u001b[0m\u001b[0;34m,\u001b[0m \u001b[0minternal_state\u001b[0m\u001b[0;34m)\u001b[0m\u001b[0;34m\u001b[0m\u001b[0;34m\u001b[0m\u001b[0m\n\u001b[0m\u001b[1;32m    292\u001b[0m         \u001b[0;32mwith\u001b[0m \u001b[0mSimpleTimer\u001b[0m\u001b[0;34m(\u001b[0m\u001b[0;34m)\u001b[0m \u001b[0;32mas\u001b[0m \u001b[0mfinalize_time\u001b[0m\u001b[0;34m:\u001b[0m\u001b[0;34m\u001b[0m\u001b[0;34m\u001b[0m\u001b[0m\n\u001b[1;32m    293\u001b[0m             \u001b[0mmutated\u001b[0m \u001b[0;34m|=\u001b[0m \u001b[0mcheck\u001b[0m\u001b[0;34m(\u001b[0m\u001b[0mpss\u001b[0m\u001b[0;34m.\u001b[0m\u001b[0mrun_finalizer\u001b[0m\u001b[0;34m,\u001b[0m \u001b[0minternal_state\u001b[0m\u001b[0;34m)\u001b[0m\u001b[0;34m\u001b[0m\u001b[0;34m\u001b[0m\u001b[0m\n",
            "\u001b[0;32m/usr/local/lib/python3.7/dist-packages/numba/core/compiler_machinery.py\u001b[0m in \u001b[0;36mcheck\u001b[0;34m(func, compiler_state)\u001b[0m\n\u001b[1;32m    262\u001b[0m \u001b[0;34m\u001b[0m\u001b[0m\n\u001b[1;32m    263\u001b[0m         \u001b[0;32mdef\u001b[0m \u001b[0mcheck\u001b[0m\u001b[0;34m(\u001b[0m\u001b[0mfunc\u001b[0m\u001b[0;34m,\u001b[0m \u001b[0mcompiler_state\u001b[0m\u001b[0;34m)\u001b[0m\u001b[0;34m:\u001b[0m\u001b[0;34m\u001b[0m\u001b[0;34m\u001b[0m\u001b[0m\n\u001b[0;32m--> 264\u001b[0;31m             \u001b[0mmangled\u001b[0m \u001b[0;34m=\u001b[0m \u001b[0mfunc\u001b[0m\u001b[0;34m(\u001b[0m\u001b[0mcompiler_state\u001b[0m\u001b[0;34m)\u001b[0m\u001b[0;34m\u001b[0m\u001b[0;34m\u001b[0m\u001b[0m\n\u001b[0m\u001b[1;32m    265\u001b[0m             \u001b[0;32mif\u001b[0m \u001b[0mmangled\u001b[0m \u001b[0;32mnot\u001b[0m \u001b[0;32min\u001b[0m \u001b[0;34m(\u001b[0m\u001b[0;32mTrue\u001b[0m\u001b[0;34m,\u001b[0m \u001b[0;32mFalse\u001b[0m\u001b[0;34m)\u001b[0m\u001b[0;34m:\u001b[0m\u001b[0;34m\u001b[0m\u001b[0;34m\u001b[0m\u001b[0m\n\u001b[1;32m    266\u001b[0m                 msg = (\"CompilerPass implementations should return True/False. \"\n",
            "\u001b[0;32m/usr/local/lib/python3.7/dist-packages/numba/core/typed_passes.py\u001b[0m in \u001b[0;36mrun_pass\u001b[0;34m(self, state)\u001b[0m\n\u001b[1;32m     96\u001b[0m                 \u001b[0mstate\u001b[0m\u001b[0;34m.\u001b[0m\u001b[0mreturn_type\u001b[0m\u001b[0;34m,\u001b[0m\u001b[0;34m\u001b[0m\u001b[0;34m\u001b[0m\u001b[0m\n\u001b[1;32m     97\u001b[0m                 \u001b[0mstate\u001b[0m\u001b[0;34m.\u001b[0m\u001b[0mlocals\u001b[0m\u001b[0;34m,\u001b[0m\u001b[0;34m\u001b[0m\u001b[0;34m\u001b[0m\u001b[0m\n\u001b[0;32m---> 98\u001b[0;31m                 raise_errors=self._raise_errors)\n\u001b[0m\u001b[1;32m     99\u001b[0m             \u001b[0mstate\u001b[0m\u001b[0;34m.\u001b[0m\u001b[0mtypemap\u001b[0m \u001b[0;34m=\u001b[0m \u001b[0mtypemap\u001b[0m\u001b[0;34m\u001b[0m\u001b[0;34m\u001b[0m\u001b[0m\n\u001b[1;32m    100\u001b[0m             \u001b[0;32mif\u001b[0m \u001b[0mself\u001b[0m\u001b[0;34m.\u001b[0m\u001b[0m_raise_errors\u001b[0m\u001b[0;34m:\u001b[0m\u001b[0;34m\u001b[0m\u001b[0;34m\u001b[0m\u001b[0m\n",
            "\u001b[0;32m/usr/local/lib/python3.7/dist-packages/numba/core/typed_passes.py\u001b[0m in \u001b[0;36mtype_inference_stage\u001b[0;34m(typingctx, interp, args, return_type, locals, raise_errors)\u001b[0m\n\u001b[1;32m     68\u001b[0m \u001b[0;34m\u001b[0m\u001b[0m\n\u001b[1;32m     69\u001b[0m         \u001b[0minfer\u001b[0m\u001b[0;34m.\u001b[0m\u001b[0mbuild_constraint\u001b[0m\u001b[0;34m(\u001b[0m\u001b[0;34m)\u001b[0m\u001b[0;34m\u001b[0m\u001b[0;34m\u001b[0m\u001b[0m\n\u001b[0;32m---> 70\u001b[0;31m         \u001b[0minfer\u001b[0m\u001b[0;34m.\u001b[0m\u001b[0mpropagate\u001b[0m\u001b[0;34m(\u001b[0m\u001b[0mraise_errors\u001b[0m\u001b[0;34m=\u001b[0m\u001b[0mraise_errors\u001b[0m\u001b[0;34m)\u001b[0m\u001b[0;34m\u001b[0m\u001b[0;34m\u001b[0m\u001b[0m\n\u001b[0m\u001b[1;32m     71\u001b[0m         \u001b[0mtypemap\u001b[0m\u001b[0;34m,\u001b[0m \u001b[0mrestype\u001b[0m\u001b[0;34m,\u001b[0m \u001b[0mcalltypes\u001b[0m \u001b[0;34m=\u001b[0m \u001b[0minfer\u001b[0m\u001b[0;34m.\u001b[0m\u001b[0munify\u001b[0m\u001b[0;34m(\u001b[0m\u001b[0mraise_errors\u001b[0m\u001b[0;34m=\u001b[0m\u001b[0mraise_errors\u001b[0m\u001b[0;34m)\u001b[0m\u001b[0;34m\u001b[0m\u001b[0;34m\u001b[0m\u001b[0m\n\u001b[1;32m     72\u001b[0m \u001b[0;34m\u001b[0m\u001b[0m\n",
            "\u001b[0;32m/usr/local/lib/python3.7/dist-packages/numba/core/typeinfer.py\u001b[0m in \u001b[0;36mpropagate\u001b[0;34m(self, raise_errors)\u001b[0m\n\u001b[1;32m   1069\u001b[0m                                   if isinstance(e, ForceLiteralArg)]\n\u001b[1;32m   1070\u001b[0m                 \u001b[0;32mif\u001b[0m \u001b[0;32mnot\u001b[0m \u001b[0mforce_lit_args\u001b[0m\u001b[0;34m:\u001b[0m\u001b[0;34m\u001b[0m\u001b[0;34m\u001b[0m\u001b[0m\n\u001b[0;32m-> 1071\u001b[0;31m                     \u001b[0;32mraise\u001b[0m \u001b[0merrors\u001b[0m\u001b[0;34m[\u001b[0m\u001b[0;36m0\u001b[0m\u001b[0;34m]\u001b[0m\u001b[0;34m\u001b[0m\u001b[0;34m\u001b[0m\u001b[0m\n\u001b[0m\u001b[1;32m   1072\u001b[0m                 \u001b[0;32melse\u001b[0m\u001b[0;34m:\u001b[0m\u001b[0;34m\u001b[0m\u001b[0;34m\u001b[0m\u001b[0m\n\u001b[1;32m   1073\u001b[0m                     \u001b[0;32mraise\u001b[0m \u001b[0mreduce\u001b[0m\u001b[0;34m(\u001b[0m\u001b[0moperator\u001b[0m\u001b[0;34m.\u001b[0m\u001b[0mor_\u001b[0m\u001b[0;34m,\u001b[0m \u001b[0mforce_lit_args\u001b[0m\u001b[0;34m)\u001b[0m\u001b[0;34m\u001b[0m\u001b[0;34m\u001b[0m\u001b[0m\n",
            "\u001b[0;31mTypingError\u001b[0m: Failed in nopython mode pipeline (step: nopython frontend)\nUnknown attribute 'float32' of type readonly array(float64, 1d, C)\n\nFile \"<ipython-input-42-4dac03bcf682>\", line 6:\ndef gpu_matvec_fast(my_sparse_mat_d, my_sparse_mat_i, my_sparse_mat_rl, vec, output):\n  local_data = cuda.shared.array((81), dtype = numba.float32)\n  ^\n\nDuring: typing of get attribute at <ipython-input-42-4dac03bcf682> (6)\n\nFile \"<ipython-input-42-4dac03bcf682>\", line 6:\ndef gpu_matvec_fast(my_sparse_mat_d, my_sparse_mat_i, my_sparse_mat_rl, vec, output):\n  local_data = cuda.shared.array((81), dtype = numba.float32)\n  ^\n"
          ]
        }
      ]
    },
    {
      "cell_type": "code",
      "metadata": {
        "id": "QUZonfkhnJRy"
      },
      "source": [
        "local_output_fast = run_kernal_fast(my_sparse_mat,x)\n",
        "rel_error_gpu = np.linalg.norm(local_output_fast - y_exact, np.inf) / np.linalg.norm(y_exact, np.inf)\n",
        "print(f\"Error:\", rel_error_gpu, \".\")\n",
        "%timeit -o  run_kernal_fast(my_sparse_mat,x)"
      ],
      "execution_count": null,
      "outputs": []
    }
  ]
}